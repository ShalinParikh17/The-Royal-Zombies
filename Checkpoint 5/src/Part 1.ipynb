{
  "nbformat": 4,
  "nbformat_minor": 0,
  "metadata": {
    "colab": {
      "name": "CP-5.ipynb",
      "provenance": []
    },
    "kernelspec": {
      "name": "python3",
      "display_name": "Python 3"
    },
    "language_info": {
      "name": "python"
    }
  },
  "cells": [
    {
      "cell_type": "code",
      "metadata": {
        "colab": {
          "base_uri": "https://localhost:8080/",
          "height": 224
        },
        "id": "fzGopFuHdZmI",
        "outputId": "9d823b3b-bb65-466f-d83c-6d278ac365f2"
      },
      "source": [
        "import numpy as np \n",
        "import pandas as pd\n",
        "import matplotlib.pyplot as plt\n",
        "import seaborn as sns\n",
        "from keras.preprocessing.text import Tokenizer\n",
        "from keras.preprocessing.sequence import pad_sequences\n",
        "from keras.models import Sequential\n",
        "from keras.layers import Dense, Embedding, LSTM, SpatialDropout1D\n",
        "from sklearn.model_selection import train_test_split\n",
        "from keras.utils.np_utils import to_categorical\n",
        "from keras.callbacks import EarlyStopping\n",
        "from keras.layers import Dropout\n",
        "import re\n",
        "import nltk\n",
        "nltk.download('stopwords')\n",
        "from nltk.corpus import stopwords\n",
        "from nltk import word_tokenize\n",
        "STOPWORDS = set(stopwords.words('english'))\n",
        "from bs4 import BeautifulSoup\n",
        "import plotly.graph_objs as go\n",
        "!pip3 install chart-studio\n",
        "import cufflinks\n",
        "from IPython.core.interactiveshell import InteractiveShell\n",
        "import plotly.figure_factory as ff\n",
        "InteractiveShell.ast_node_interactivity = 'all'\n",
        "from plotly.offline import iplot\n",
        "cufflinks.go_offline()\n",
        "cufflinks.set_config_file(world_readable=True, theme='pearl')"
      ],
      "execution_count": null,
      "outputs": [
        {
          "output_type": "stream",
          "name": "stdout",
          "text": [
            "[nltk_data] Downloading package stopwords to /root/nltk_data...\n",
            "[nltk_data]   Package stopwords is already up-to-date!\n"
          ]
        },
        {
          "output_type": "execute_result",
          "data": {
            "text/plain": [
              "True"
            ]
          },
          "metadata": {},
          "execution_count": 87
        },
        {
          "output_type": "stream",
          "name": "stdout",
          "text": [
            "Requirement already satisfied: chart-studio in /usr/local/lib/python3.7/dist-packages (1.1.0)\n",
            "Requirement already satisfied: six in /usr/local/lib/python3.7/dist-packages (from chart-studio) (1.15.0)\n",
            "Requirement already satisfied: retrying>=1.3.3 in /usr/local/lib/python3.7/dist-packages (from chart-studio) (1.3.3)\n",
            "Requirement already satisfied: requests in /usr/local/lib/python3.7/dist-packages (from chart-studio) (2.23.0)\n",
            "Requirement already satisfied: plotly in /usr/local/lib/python3.7/dist-packages (from chart-studio) (4.4.1)\n",
            "Requirement already satisfied: idna<3,>=2.5 in /usr/local/lib/python3.7/dist-packages (from requests->chart-studio) (2.10)\n",
            "Requirement already satisfied: urllib3!=1.25.0,!=1.25.1,<1.26,>=1.21.1 in /usr/local/lib/python3.7/dist-packages (from requests->chart-studio) (1.24.3)\n",
            "Requirement already satisfied: certifi>=2017.4.17 in /usr/local/lib/python3.7/dist-packages (from requests->chart-studio) (2021.10.8)\n",
            "Requirement already satisfied: chardet<4,>=3.0.2 in /usr/local/lib/python3.7/dist-packages (from requests->chart-studio) (3.0.4)\n"
          ]
        },
        {
          "output_type": "display_data",
          "data": {
            "text/html": [
              "        <script type=\"text/javascript\">\n",
              "        window.PlotlyConfig = {MathJaxConfig: 'local'};\n",
              "        if (window.MathJax) {MathJax.Hub.Config({SVG: {font: \"STIX-Web\"}});}\n",
              "        if (typeof require !== 'undefined') {\n",
              "        require.undef(\"plotly\");\n",
              "        requirejs.config({\n",
              "            paths: {\n",
              "                'plotly': ['https://cdn.plot.ly/plotly-latest.min']\n",
              "            }\n",
              "        });\n",
              "        require(['plotly'], function(Plotly) {\n",
              "            window._Plotly = Plotly;\n",
              "        });\n",
              "        }\n",
              "        </script>\n",
              "        "
            ]
          },
          "metadata": {}
        }
      ]
    },
    {
      "cell_type": "code",
      "metadata": {
        "id": "EgN6u0nbdee1"
      },
      "source": [
        "df = pd.read_csv('/content/NLP.csv',low_memory=False)"
      ],
      "execution_count": null,
      "outputs": []
    },
    {
      "cell_type": "code",
      "metadata": {
        "colab": {
          "base_uri": "https://localhost:8080/",
          "height": 343
        },
        "id": "hTGjcI06fU4-",
        "outputId": "5375ceb0-caf7-4b75-cfe2-0462faffad74"
      },
      "source": [
        "df.head()"
      ],
      "execution_count": null,
      "outputs": [
        {
          "output_type": "execute_result",
          "data": {
            "text/html": [
              "<div>\n",
              "<style scoped>\n",
              "    .dataframe tbody tr th:only-of-type {\n",
              "        vertical-align: middle;\n",
              "    }\n",
              "\n",
              "    .dataframe tbody tr th {\n",
              "        vertical-align: top;\n",
              "    }\n",
              "\n",
              "    .dataframe thead th {\n",
              "        text-align: right;\n",
              "    }\n",
              "</style>\n",
              "<table border=\"1\" class=\"dataframe\">\n",
              "  <thead>\n",
              "    <tr style=\"text-align: right;\">\n",
              "      <th></th>\n",
              "      <th>crid</th>\n",
              "      <th>summary</th>\n",
              "      <th>add2</th>\n",
              "      <th>city</th>\n",
              "      <th>incident_date</th>\n",
              "      <th>point</th>\n",
              "      <th>source</th>\n",
              "      <th>beat_id</th>\n",
              "      <th>is_officer_complaint</th>\n",
              "      <th>add1</th>\n",
              "      <th>location</th>\n",
              "      <th>old_complaint_address</th>\n",
              "      <th>first_end_date</th>\n",
              "      <th>first_start_date</th>\n",
              "      <th>most_common_category_id</th>\n",
              "      <th>coaccused_count</th>\n",
              "      <th>subjects</th>\n",
              "      <th>created_at</th>\n",
              "      <th>updated_at</th>\n",
              "      <th>is_extracted_summary</th>\n",
              "      <th>cr_text</th>\n",
              "      <th>id</th>\n",
              "      <th>start_date</th>\n",
              "      <th>end_date</th>\n",
              "      <th>officer_age</th>\n",
              "      <th>recc_finding</th>\n",
              "      <th>recc_outcome</th>\n",
              "      <th>final_finding</th>\n",
              "      <th>final_outcome</th>\n",
              "      <th>final_outcome_class</th>\n",
              "      <th>allegation_category_id</th>\n",
              "      <th>officer_id</th>\n",
              "      <th>disciplined</th>\n",
              "      <th>created_at.1</th>\n",
              "      <th>updated_at.1</th>\n",
              "      <th>allegation_id</th>\n",
              "      <th>id.1</th>\n",
              "      <th>category_code</th>\n",
              "      <th>category</th>\n",
              "      <th>allegation_name</th>\n",
              "      <th>on_duty</th>\n",
              "      <th>citizen_dept</th>\n",
              "      <th>created_at.2</th>\n",
              "      <th>updated_at.2</th>\n",
              "    </tr>\n",
              "  </thead>\n",
              "  <tbody>\n",
              "    <tr>\n",
              "      <th>0</th>\n",
              "      <td>C181899</td>\n",
              "      <td>NaN</td>\n",
              "      <td>NaN</td>\n",
              "      <td>NaN</td>\n",
              "      <td>1986-06-02 00:00:00+00</td>\n",
              "      <td>0101000020E6100000379902E3AAEE55C0C5D3E1D7FEEA...</td>\n",
              "      <td>NaN</td>\n",
              "      <td>NaN</td>\n",
              "      <td>False</td>\n",
              "      <td>NaN</td>\n",
              "      <td>NaN</td>\n",
              "      <td>31XX S KEELER</td>\n",
              "      <td>1994-01-12</td>\n",
              "      <td>1991-01-23</td>\n",
              "      <td>159</td>\n",
              "      <td>1</td>\n",
              "      <td>NaN</td>\n",
              "      <td>2019-01-09 04:41:26.530261+00</td>\n",
              "      <td>2019-01-09 04:41:31.205347+00</td>\n",
              "      <td>False</td>\n",
              "      <td>NaN</td>\n",
              "      <td>11062</td>\n",
              "      <td>1991-01-23</td>\n",
              "      <td>1994-01-12</td>\n",
              "      <td>NaN</td>\n",
              "      <td>NaN</td>\n",
              "      <td>Unknown</td>\n",
              "      <td>SU</td>\n",
              "      <td>Separation</td>\n",
              "      <td>NaN</td>\n",
              "      <td>159</td>\n",
              "      <td>31597</td>\n",
              "      <td>True</td>\n",
              "      <td>2019-01-09 04:41:59.265501+00</td>\n",
              "      <td>2019-01-09 04:42:02.108401+00</td>\n",
              "      <td>C181899</td>\n",
              "      <td>159</td>\n",
              "      <td>08N</td>\n",
              "      <td>Criminal Misconduct</td>\n",
              "      <td>Conspiracy To Commit A Crime</td>\n",
              "      <td>True</td>\n",
              "      <td>citizen</td>\n",
              "      <td>2019-01-09 04:41:36.478496+00</td>\n",
              "      <td>2019-01-09 04:41:36.629666+00</td>\n",
              "    </tr>\n",
              "    <tr>\n",
              "      <th>1</th>\n",
              "      <td>1054738</td>\n",
              "      <td>NaN</td>\n",
              "      <td>S JUSTINE ST Apt: 1</td>\n",
              "      <td>CHICAGO IL 60620</td>\n",
              "      <td>2012-06-13 00:00:00+00</td>\n",
              "      <td>0101000020E6100000FA5866B650EA55C003C70A2362DC...</td>\n",
              "      <td>NaN</td>\n",
              "      <td>244.0</td>\n",
              "      <td>False</td>\n",
              "      <td>94XX</td>\n",
              "      <td>Public Way - Other</td>\n",
              "      <td>NaN</td>\n",
              "      <td>2012-09-20</td>\n",
              "      <td>2012-06-13</td>\n",
              "      <td>204</td>\n",
              "      <td>2</td>\n",
              "      <td>NaN</td>\n",
              "      <td>2019-01-09 04:41:26.530261+00</td>\n",
              "      <td>2019-01-09 04:41:31.205347+00</td>\n",
              "      <td>False</td>\n",
              "      <td>Initial / Intake Allegation 1: The complainant...</td>\n",
              "      <td>224509</td>\n",
              "      <td>2012-06-13</td>\n",
              "      <td>2012-09-20</td>\n",
              "      <td>NaN</td>\n",
              "      <td>NaN</td>\n",
              "      <td>Unknown</td>\n",
              "      <td>NaN</td>\n",
              "      <td>Unknown</td>\n",
              "      <td>NaN</td>\n",
              "      <td>204</td>\n",
              "      <td>22604</td>\n",
              "      <td>NaN</td>\n",
              "      <td>2019-01-09 04:41:59.265501+00</td>\n",
              "      <td>2019-01-09 04:42:02.108401+00</td>\n",
              "      <td>1054738</td>\n",
              "      <td>204</td>\n",
              "      <td>10U</td>\n",
              "      <td>Operation/Personnel Violations</td>\n",
              "      <td>Inadequate / Failure To Provide Service</td>\n",
              "      <td>True</td>\n",
              "      <td>dept</td>\n",
              "      <td>2019-01-09 04:41:36.478496+00</td>\n",
              "      <td>2019-01-09 04:41:36.629666+00</td>\n",
              "    </tr>\n",
              "    <tr>\n",
              "      <th>2</th>\n",
              "      <td>1067064</td>\n",
              "      <td>NaN</td>\n",
              "      <td>NaN</td>\n",
              "      <td>NaN</td>\n",
              "      <td>2014-01-16 00:00:00+00</td>\n",
              "      <td>NaN</td>\n",
              "      <td>NaN</td>\n",
              "      <td>224.0</td>\n",
              "      <td>False</td>\n",
              "      <td>NaN</td>\n",
              "      <td>Private Residence</td>\n",
              "      <td>NaN</td>\n",
              "      <td>2014-04-03</td>\n",
              "      <td>2014-01-16</td>\n",
              "      <td>96</td>\n",
              "      <td>3</td>\n",
              "      <td>NaN</td>\n",
              "      <td>2019-01-09 04:41:26.530261+00</td>\n",
              "      <td>2019-01-09 04:41:31.205347+00</td>\n",
              "      <td>False</td>\n",
              "      <td>NaN</td>\n",
              "      <td>232360</td>\n",
              "      <td>2014-01-16</td>\n",
              "      <td>2014-04-03</td>\n",
              "      <td>NaN</td>\n",
              "      <td>NaN</td>\n",
              "      <td>Unknown</td>\n",
              "      <td>NaN</td>\n",
              "      <td>Unknown</td>\n",
              "      <td>NaN</td>\n",
              "      <td>96</td>\n",
              "      <td>17087</td>\n",
              "      <td>NaN</td>\n",
              "      <td>2019-01-09 04:41:59.265501+00</td>\n",
              "      <td>2019-01-09 04:42:02.108401+00</td>\n",
              "      <td>1067064</td>\n",
              "      <td>96</td>\n",
              "      <td>04J</td>\n",
              "      <td>Lockup Procedures</td>\n",
              "      <td>Miscellaneous</td>\n",
              "      <td>True</td>\n",
              "      <td>citizen</td>\n",
              "      <td>2019-01-09 04:41:36.478496+00</td>\n",
              "      <td>2019-01-09 04:41:36.629666+00</td>\n",
              "    </tr>\n",
              "    <tr>\n",
              "      <th>3</th>\n",
              "      <td>C170725</td>\n",
              "      <td>NaN</td>\n",
              "      <td>NaN</td>\n",
              "      <td>NaN</td>\n",
              "      <td>1989-09-05 00:00:00+00</td>\n",
              "      <td>0101000020E610000036F1C4628AE655C0C29668DA0FE5...</td>\n",
              "      <td>NaN</td>\n",
              "      <td>NaN</td>\n",
              "      <td>False</td>\n",
              "      <td>NaN</td>\n",
              "      <td>NaN</td>\n",
              "      <td>9XX E 58TH STREET</td>\n",
              "      <td>1990-02-08</td>\n",
              "      <td>1989-09-05</td>\n",
              "      <td>204</td>\n",
              "      <td>1</td>\n",
              "      <td>NaN</td>\n",
              "      <td>2019-01-09 04:41:26.530261+00</td>\n",
              "      <td>2019-01-09 04:41:31.205347+00</td>\n",
              "      <td>False</td>\n",
              "      <td>NaN</td>\n",
              "      <td>3767</td>\n",
              "      <td>1989-09-05</td>\n",
              "      <td>1990-02-08</td>\n",
              "      <td>NaN</td>\n",
              "      <td>NaN</td>\n",
              "      <td>Unknown</td>\n",
              "      <td>SU</td>\n",
              "      <td>Reprimand</td>\n",
              "      <td>NaN</td>\n",
              "      <td>204</td>\n",
              "      <td>4138</td>\n",
              "      <td>True</td>\n",
              "      <td>2019-01-09 04:41:59.265501+00</td>\n",
              "      <td>2019-01-09 04:42:02.108401+00</td>\n",
              "      <td>C170725</td>\n",
              "      <td>204</td>\n",
              "      <td>10U</td>\n",
              "      <td>Operation/Personnel Violations</td>\n",
              "      <td>Inadequate / Failure To Provide Service</td>\n",
              "      <td>True</td>\n",
              "      <td>dept</td>\n",
              "      <td>2019-01-09 04:41:36.478496+00</td>\n",
              "      <td>2019-01-09 04:41:36.629666+00</td>\n",
              "    </tr>\n",
              "    <tr>\n",
              "      <th>4</th>\n",
              "      <td>C171736</td>\n",
              "      <td>NaN</td>\n",
              "      <td>NaN</td>\n",
              "      <td>NaN</td>\n",
              "      <td>1989-10-19 00:00:00+00</td>\n",
              "      <td>0101000020E610000087ECCDB9A5F355C0BF60376C5BF7...</td>\n",
              "      <td>NaN</td>\n",
              "      <td>NaN</td>\n",
              "      <td>False</td>\n",
              "      <td>NaN</td>\n",
              "      <td>NaN</td>\n",
              "      <td>28XX N HARLEM</td>\n",
              "      <td>1990-06-04</td>\n",
              "      <td>1989-10-19</td>\n",
              "      <td>31</td>\n",
              "      <td>1</td>\n",
              "      <td>NaN</td>\n",
              "      <td>2019-01-09 04:41:26.530261+00</td>\n",
              "      <td>2019-01-09 04:41:31.205347+00</td>\n",
              "      <td>False</td>\n",
              "      <td>NaN</td>\n",
              "      <td>5210</td>\n",
              "      <td>1989-10-19</td>\n",
              "      <td>1990-06-04</td>\n",
              "      <td>NaN</td>\n",
              "      <td>NaN</td>\n",
              "      <td>Unknown</td>\n",
              "      <td>SU</td>\n",
              "      <td>Reprimand</td>\n",
              "      <td>NaN</td>\n",
              "      <td>31</td>\n",
              "      <td>20132</td>\n",
              "      <td>True</td>\n",
              "      <td>2019-01-09 04:41:59.265501+00</td>\n",
              "      <td>2019-01-09 04:42:02.108401+00</td>\n",
              "      <td>C171736</td>\n",
              "      <td>31</td>\n",
              "      <td>01A</td>\n",
              "      <td>Verbal Abuse</td>\n",
              "      <td>Use Of Profanity</td>\n",
              "      <td>True</td>\n",
              "      <td>citizen</td>\n",
              "      <td>2019-01-09 04:41:36.478496+00</td>\n",
              "      <td>2019-01-09 04:41:36.629666+00</td>\n",
              "    </tr>\n",
              "  </tbody>\n",
              "</table>\n",
              "</div>"
            ],
            "text/plain": [
              "      crid  ...                   updated_at.2\n",
              "0  C181899  ...  2019-01-09 04:41:36.629666+00\n",
              "1  1054738  ...  2019-01-09 04:41:36.629666+00\n",
              "2  1067064  ...  2019-01-09 04:41:36.629666+00\n",
              "3  C170725  ...  2019-01-09 04:41:36.629666+00\n",
              "4  C171736  ...  2019-01-09 04:41:36.629666+00\n",
              "\n",
              "[5 rows x 44 columns]"
            ]
          },
          "metadata": {},
          "execution_count": 89
        }
      ]
    },
    {
      "cell_type": "code",
      "metadata": {
        "colab": {
          "base_uri": "https://localhost:8080/"
        },
        "id": "ZNUQgg3mfZ22",
        "outputId": "5b21f2e9-88dc-46ad-ef78-5a8bc9049950"
      },
      "source": [
        "df.info()"
      ],
      "execution_count": null,
      "outputs": [
        {
          "output_type": "stream",
          "name": "stdout",
          "text": [
            "<class 'pandas.core.frame.DataFrame'>\n",
            "RangeIndex: 40844 entries, 0 to 40843\n",
            "Data columns (total 44 columns):\n",
            " #   Column                   Non-Null Count  Dtype  \n",
            "---  ------                   --------------  -----  \n",
            " 0   crid                     40844 non-null  object \n",
            " 1   summary                  355 non-null    object \n",
            " 2   add2                     15179 non-null  object \n",
            " 3   city                     15442 non-null  object \n",
            " 4   incident_date            40819 non-null  object \n",
            " 5   point                    34810 non-null  object \n",
            " 6   source                   9 non-null      object \n",
            " 7   beat_id                  18483 non-null  float64\n",
            " 8   is_officer_complaint     40844 non-null  bool   \n",
            " 9   add1                     14895 non-null  object \n",
            " 10  location                 20197 non-null  object \n",
            " 11  old_complaint_address    19338 non-null  object \n",
            " 12  first_end_date           39852 non-null  object \n",
            " 13  first_start_date         40844 non-null  object \n",
            " 14  most_common_category_id  40844 non-null  int64  \n",
            " 15  coaccused_count          40844 non-null  int64  \n",
            " 16  subjects                 20 non-null     object \n",
            " 17  created_at               40844 non-null  object \n",
            " 18  updated_at               40844 non-null  object \n",
            " 19  is_extracted_summary     40844 non-null  bool   \n",
            " 20  cr_text                  1239 non-null   object \n",
            " 21  id                       40844 non-null  int64  \n",
            " 22  start_date               40844 non-null  object \n",
            " 23  end_date                 39852 non-null  object \n",
            " 24  officer_age              0 non-null      float64\n",
            " 25  recc_finding             11956 non-null  object \n",
            " 26  recc_outcome             40844 non-null  object \n",
            " 27  final_finding            33215 non-null  object \n",
            " 28  final_outcome            40844 non-null  object \n",
            " 29  final_outcome_class      0 non-null      float64\n",
            " 30  allegation_category_id   40844 non-null  int64  \n",
            " 31  officer_id               40844 non-null  int64  \n",
            " 32  disciplined              38757 non-null  object \n",
            " 33  created_at.1             40844 non-null  object \n",
            " 34  updated_at.1             40844 non-null  object \n",
            " 35  allegation_id            40844 non-null  object \n",
            " 36  id.1                     40844 non-null  int64  \n",
            " 37  category_code            40844 non-null  object \n",
            " 38  category                 40844 non-null  object \n",
            " 39  allegation_name          40844 non-null  object \n",
            " 40  on_duty                  40844 non-null  bool   \n",
            " 41  citizen_dept             40844 non-null  object \n",
            " 42  created_at.2             40844 non-null  object \n",
            " 43  updated_at.2             40843 non-null  object \n",
            "dtypes: bool(3), float64(3), int64(6), object(32)\n",
            "memory usage: 12.9+ MB\n"
          ]
        }
      ]
    },
    {
      "cell_type": "code",
      "metadata": {
        "colab": {
          "base_uri": "https://localhost:8080/"
        },
        "id": "dsUlMPehffdO",
        "outputId": "1a3048c2-bf86-4247-8109-d85781a59f1c"
      },
      "source": [
        "df.category.value_counts()"
      ],
      "execution_count": null,
      "outputs": [
        {
          "output_type": "execute_result",
          "data": {
            "text/plain": [
              "Operation/Personnel Violations    12968\n",
              "Use Of Force                       9659\n",
              "Illegal Search                     5939\n",
              "Lockup Procedures                  2293\n",
              "Verbal Abuse                       2263\n",
              "False Arrest                       1595\n",
              "Conduct Unbecoming (Off-Duty)      1428\n",
              "Traffic                            1342\n",
              "Criminal Misconduct                1078\n",
              "Domestic                            934\n",
              "Supervisory Responsibilities        835\n",
              "Drug / Alcohol Abuse                226\n",
              "Bribery / Official Corruption       167\n",
              "Money / Property                     65\n",
              "Unknown                              14\n",
              "First Amendment                      13\n",
              "Excessive Force                      10\n",
              "Medical                               8\n",
              "Racial Profiling                      7\n",
              "Name: category, dtype: int64"
            ]
          },
          "metadata": {},
          "execution_count": 91
        }
      ]
    },
    {
      "cell_type": "code",
      "metadata": {
        "colab": {
          "base_uri": "https://localhost:8080/"
        },
        "id": "7FfUZZEeisWt",
        "outputId": "6275d659-9ed2-462c-dbb6-9897cab11d6a"
      },
      "source": [
        "df.info()"
      ],
      "execution_count": null,
      "outputs": [
        {
          "output_type": "stream",
          "name": "stdout",
          "text": [
            "<class 'pandas.core.frame.DataFrame'>\n",
            "RangeIndex: 40844 entries, 0 to 40843\n",
            "Data columns (total 44 columns):\n",
            " #   Column                   Non-Null Count  Dtype  \n",
            "---  ------                   --------------  -----  \n",
            " 0   crid                     40844 non-null  object \n",
            " 1   summary                  355 non-null    object \n",
            " 2   add2                     15179 non-null  object \n",
            " 3   city                     15442 non-null  object \n",
            " 4   incident_date            40819 non-null  object \n",
            " 5   point                    34810 non-null  object \n",
            " 6   source                   9 non-null      object \n",
            " 7   beat_id                  18483 non-null  float64\n",
            " 8   is_officer_complaint     40844 non-null  bool   \n",
            " 9   add1                     14895 non-null  object \n",
            " 10  location                 20197 non-null  object \n",
            " 11  old_complaint_address    19338 non-null  object \n",
            " 12  first_end_date           39852 non-null  object \n",
            " 13  first_start_date         40844 non-null  object \n",
            " 14  most_common_category_id  40844 non-null  int64  \n",
            " 15  coaccused_count          40844 non-null  int64  \n",
            " 16  subjects                 20 non-null     object \n",
            " 17  created_at               40844 non-null  object \n",
            " 18  updated_at               40844 non-null  object \n",
            " 19  is_extracted_summary     40844 non-null  bool   \n",
            " 20  cr_text                  1239 non-null   object \n",
            " 21  id                       40844 non-null  int64  \n",
            " 22  start_date               40844 non-null  object \n",
            " 23  end_date                 39852 non-null  object \n",
            " 24  officer_age              0 non-null      float64\n",
            " 25  recc_finding             11956 non-null  object \n",
            " 26  recc_outcome             40844 non-null  object \n",
            " 27  final_finding            33215 non-null  object \n",
            " 28  final_outcome            40844 non-null  object \n",
            " 29  final_outcome_class      0 non-null      float64\n",
            " 30  allegation_category_id   40844 non-null  int64  \n",
            " 31  officer_id               40844 non-null  int64  \n",
            " 32  disciplined              38757 non-null  object \n",
            " 33  created_at.1             40844 non-null  object \n",
            " 34  updated_at.1             40844 non-null  object \n",
            " 35  allegation_id            40844 non-null  object \n",
            " 36  id.1                     40844 non-null  int64  \n",
            " 37  category_code            40844 non-null  object \n",
            " 38  category                 40844 non-null  object \n",
            " 39  allegation_name          40844 non-null  object \n",
            " 40  on_duty                  40844 non-null  bool   \n",
            " 41  citizen_dept             40844 non-null  object \n",
            " 42  created_at.2             40844 non-null  object \n",
            " 43  updated_at.2             40843 non-null  object \n",
            "dtypes: bool(3), float64(3), int64(6), object(32)\n",
            "memory usage: 12.9+ MB\n"
          ]
        }
      ]
    },
    {
      "cell_type": "code",
      "metadata": {
        "colab": {
          "base_uri": "https://localhost:8080/"
        },
        "id": "c7A_LBajyshX",
        "outputId": "dceb02d9-b337-46c2-eec0-ea6a4bdbe140"
      },
      "source": [
        "df.info()"
      ],
      "execution_count": null,
      "outputs": [
        {
          "output_type": "stream",
          "name": "stdout",
          "text": [
            "<class 'pandas.core.frame.DataFrame'>\n",
            "RangeIndex: 40844 entries, 0 to 40843\n",
            "Data columns (total 44 columns):\n",
            " #   Column                   Non-Null Count  Dtype  \n",
            "---  ------                   --------------  -----  \n",
            " 0   crid                     40844 non-null  object \n",
            " 1   summary                  355 non-null    object \n",
            " 2   add2                     15179 non-null  object \n",
            " 3   city                     15442 non-null  object \n",
            " 4   incident_date            40819 non-null  object \n",
            " 5   point                    34810 non-null  object \n",
            " 6   source                   9 non-null      object \n",
            " 7   beat_id                  18483 non-null  float64\n",
            " 8   is_officer_complaint     40844 non-null  bool   \n",
            " 9   add1                     14895 non-null  object \n",
            " 10  location                 20197 non-null  object \n",
            " 11  old_complaint_address    19338 non-null  object \n",
            " 12  first_end_date           39852 non-null  object \n",
            " 13  first_start_date         40844 non-null  object \n",
            " 14  most_common_category_id  40844 non-null  int64  \n",
            " 15  coaccused_count          40844 non-null  int64  \n",
            " 16  subjects                 20 non-null     object \n",
            " 17  created_at               40844 non-null  object \n",
            " 18  updated_at               40844 non-null  object \n",
            " 19  is_extracted_summary     40844 non-null  bool   \n",
            " 20  cr_text                  1239 non-null   object \n",
            " 21  id                       40844 non-null  int64  \n",
            " 22  start_date               40844 non-null  object \n",
            " 23  end_date                 39852 non-null  object \n",
            " 24  officer_age              0 non-null      float64\n",
            " 25  recc_finding             11956 non-null  object \n",
            " 26  recc_outcome             40844 non-null  object \n",
            " 27  final_finding            33215 non-null  object \n",
            " 28  final_outcome            40844 non-null  object \n",
            " 29  final_outcome_class      0 non-null      float64\n",
            " 30  allegation_category_id   40844 non-null  int64  \n",
            " 31  officer_id               40844 non-null  int64  \n",
            " 32  disciplined              38757 non-null  object \n",
            " 33  created_at.1             40844 non-null  object \n",
            " 34  updated_at.1             40844 non-null  object \n",
            " 35  allegation_id            40844 non-null  object \n",
            " 36  id.1                     40844 non-null  int64  \n",
            " 37  category_code            40844 non-null  object \n",
            " 38  category                 40844 non-null  object \n",
            " 39  allegation_name          40844 non-null  object \n",
            " 40  on_duty                  40844 non-null  bool   \n",
            " 41  citizen_dept             40844 non-null  object \n",
            " 42  created_at.2             40844 non-null  object \n",
            " 43  updated_at.2             40843 non-null  object \n",
            "dtypes: bool(3), float64(3), int64(6), object(32)\n",
            "memory usage: 12.9+ MB\n"
          ]
        }
      ]
    },
    {
      "cell_type": "code",
      "metadata": {
        "id": "-2zVx01dhYJp",
        "colab": {
          "base_uri": "https://localhost:8080/",
          "height": 343
        },
        "outputId": "91f86c48-14c5-44e1-b99d-095557e7d248"
      },
      "source": [
        "df.head()"
      ],
      "execution_count": null,
      "outputs": [
        {
          "output_type": "execute_result",
          "data": {
            "text/html": [
              "<div>\n",
              "<style scoped>\n",
              "    .dataframe tbody tr th:only-of-type {\n",
              "        vertical-align: middle;\n",
              "    }\n",
              "\n",
              "    .dataframe tbody tr th {\n",
              "        vertical-align: top;\n",
              "    }\n",
              "\n",
              "    .dataframe thead th {\n",
              "        text-align: right;\n",
              "    }\n",
              "</style>\n",
              "<table border=\"1\" class=\"dataframe\">\n",
              "  <thead>\n",
              "    <tr style=\"text-align: right;\">\n",
              "      <th></th>\n",
              "      <th>crid</th>\n",
              "      <th>summary</th>\n",
              "      <th>add2</th>\n",
              "      <th>city</th>\n",
              "      <th>incident_date</th>\n",
              "      <th>point</th>\n",
              "      <th>source</th>\n",
              "      <th>beat_id</th>\n",
              "      <th>is_officer_complaint</th>\n",
              "      <th>add1</th>\n",
              "      <th>location</th>\n",
              "      <th>old_complaint_address</th>\n",
              "      <th>first_end_date</th>\n",
              "      <th>first_start_date</th>\n",
              "      <th>most_common_category_id</th>\n",
              "      <th>coaccused_count</th>\n",
              "      <th>subjects</th>\n",
              "      <th>created_at</th>\n",
              "      <th>updated_at</th>\n",
              "      <th>is_extracted_summary</th>\n",
              "      <th>cr_text</th>\n",
              "      <th>id</th>\n",
              "      <th>start_date</th>\n",
              "      <th>end_date</th>\n",
              "      <th>officer_age</th>\n",
              "      <th>recc_finding</th>\n",
              "      <th>recc_outcome</th>\n",
              "      <th>final_finding</th>\n",
              "      <th>final_outcome</th>\n",
              "      <th>final_outcome_class</th>\n",
              "      <th>allegation_category_id</th>\n",
              "      <th>officer_id</th>\n",
              "      <th>disciplined</th>\n",
              "      <th>created_at.1</th>\n",
              "      <th>updated_at.1</th>\n",
              "      <th>allegation_id</th>\n",
              "      <th>id.1</th>\n",
              "      <th>category_code</th>\n",
              "      <th>category</th>\n",
              "      <th>allegation_name</th>\n",
              "      <th>on_duty</th>\n",
              "      <th>citizen_dept</th>\n",
              "      <th>created_at.2</th>\n",
              "      <th>updated_at.2</th>\n",
              "    </tr>\n",
              "  </thead>\n",
              "  <tbody>\n",
              "    <tr>\n",
              "      <th>0</th>\n",
              "      <td>C181899</td>\n",
              "      <td>NaN</td>\n",
              "      <td>NaN</td>\n",
              "      <td>NaN</td>\n",
              "      <td>1986-06-02 00:00:00+00</td>\n",
              "      <td>0101000020E6100000379902E3AAEE55C0C5D3E1D7FEEA...</td>\n",
              "      <td>NaN</td>\n",
              "      <td>NaN</td>\n",
              "      <td>False</td>\n",
              "      <td>NaN</td>\n",
              "      <td>NaN</td>\n",
              "      <td>31XX S KEELER</td>\n",
              "      <td>1994-01-12</td>\n",
              "      <td>1991-01-23</td>\n",
              "      <td>159</td>\n",
              "      <td>1</td>\n",
              "      <td>NaN</td>\n",
              "      <td>2019-01-09 04:41:26.530261+00</td>\n",
              "      <td>2019-01-09 04:41:31.205347+00</td>\n",
              "      <td>False</td>\n",
              "      <td>NaN</td>\n",
              "      <td>11062</td>\n",
              "      <td>1991-01-23</td>\n",
              "      <td>1994-01-12</td>\n",
              "      <td>NaN</td>\n",
              "      <td>NaN</td>\n",
              "      <td>Unknown</td>\n",
              "      <td>SU</td>\n",
              "      <td>Separation</td>\n",
              "      <td>NaN</td>\n",
              "      <td>159</td>\n",
              "      <td>31597</td>\n",
              "      <td>True</td>\n",
              "      <td>2019-01-09 04:41:59.265501+00</td>\n",
              "      <td>2019-01-09 04:42:02.108401+00</td>\n",
              "      <td>C181899</td>\n",
              "      <td>159</td>\n",
              "      <td>08N</td>\n",
              "      <td>Criminal Misconduct</td>\n",
              "      <td>Conspiracy To Commit A Crime</td>\n",
              "      <td>True</td>\n",
              "      <td>citizen</td>\n",
              "      <td>2019-01-09 04:41:36.478496+00</td>\n",
              "      <td>2019-01-09 04:41:36.629666+00</td>\n",
              "    </tr>\n",
              "    <tr>\n",
              "      <th>1</th>\n",
              "      <td>1054738</td>\n",
              "      <td>NaN</td>\n",
              "      <td>S JUSTINE ST Apt: 1</td>\n",
              "      <td>CHICAGO IL 60620</td>\n",
              "      <td>2012-06-13 00:00:00+00</td>\n",
              "      <td>0101000020E6100000FA5866B650EA55C003C70A2362DC...</td>\n",
              "      <td>NaN</td>\n",
              "      <td>244.0</td>\n",
              "      <td>False</td>\n",
              "      <td>94XX</td>\n",
              "      <td>Public Way - Other</td>\n",
              "      <td>NaN</td>\n",
              "      <td>2012-09-20</td>\n",
              "      <td>2012-06-13</td>\n",
              "      <td>204</td>\n",
              "      <td>2</td>\n",
              "      <td>NaN</td>\n",
              "      <td>2019-01-09 04:41:26.530261+00</td>\n",
              "      <td>2019-01-09 04:41:31.205347+00</td>\n",
              "      <td>False</td>\n",
              "      <td>Initial / Intake Allegation 1: The complainant...</td>\n",
              "      <td>224509</td>\n",
              "      <td>2012-06-13</td>\n",
              "      <td>2012-09-20</td>\n",
              "      <td>NaN</td>\n",
              "      <td>NaN</td>\n",
              "      <td>Unknown</td>\n",
              "      <td>NaN</td>\n",
              "      <td>Unknown</td>\n",
              "      <td>NaN</td>\n",
              "      <td>204</td>\n",
              "      <td>22604</td>\n",
              "      <td>NaN</td>\n",
              "      <td>2019-01-09 04:41:59.265501+00</td>\n",
              "      <td>2019-01-09 04:42:02.108401+00</td>\n",
              "      <td>1054738</td>\n",
              "      <td>204</td>\n",
              "      <td>10U</td>\n",
              "      <td>Operation/Personnel Violations</td>\n",
              "      <td>Inadequate / Failure To Provide Service</td>\n",
              "      <td>True</td>\n",
              "      <td>dept</td>\n",
              "      <td>2019-01-09 04:41:36.478496+00</td>\n",
              "      <td>2019-01-09 04:41:36.629666+00</td>\n",
              "    </tr>\n",
              "    <tr>\n",
              "      <th>2</th>\n",
              "      <td>1067064</td>\n",
              "      <td>NaN</td>\n",
              "      <td>NaN</td>\n",
              "      <td>NaN</td>\n",
              "      <td>2014-01-16 00:00:00+00</td>\n",
              "      <td>NaN</td>\n",
              "      <td>NaN</td>\n",
              "      <td>224.0</td>\n",
              "      <td>False</td>\n",
              "      <td>NaN</td>\n",
              "      <td>Private Residence</td>\n",
              "      <td>NaN</td>\n",
              "      <td>2014-04-03</td>\n",
              "      <td>2014-01-16</td>\n",
              "      <td>96</td>\n",
              "      <td>3</td>\n",
              "      <td>NaN</td>\n",
              "      <td>2019-01-09 04:41:26.530261+00</td>\n",
              "      <td>2019-01-09 04:41:31.205347+00</td>\n",
              "      <td>False</td>\n",
              "      <td>NaN</td>\n",
              "      <td>232360</td>\n",
              "      <td>2014-01-16</td>\n",
              "      <td>2014-04-03</td>\n",
              "      <td>NaN</td>\n",
              "      <td>NaN</td>\n",
              "      <td>Unknown</td>\n",
              "      <td>NaN</td>\n",
              "      <td>Unknown</td>\n",
              "      <td>NaN</td>\n",
              "      <td>96</td>\n",
              "      <td>17087</td>\n",
              "      <td>NaN</td>\n",
              "      <td>2019-01-09 04:41:59.265501+00</td>\n",
              "      <td>2019-01-09 04:42:02.108401+00</td>\n",
              "      <td>1067064</td>\n",
              "      <td>96</td>\n",
              "      <td>04J</td>\n",
              "      <td>Lockup Procedures</td>\n",
              "      <td>Miscellaneous</td>\n",
              "      <td>True</td>\n",
              "      <td>citizen</td>\n",
              "      <td>2019-01-09 04:41:36.478496+00</td>\n",
              "      <td>2019-01-09 04:41:36.629666+00</td>\n",
              "    </tr>\n",
              "    <tr>\n",
              "      <th>3</th>\n",
              "      <td>C170725</td>\n",
              "      <td>NaN</td>\n",
              "      <td>NaN</td>\n",
              "      <td>NaN</td>\n",
              "      <td>1989-09-05 00:00:00+00</td>\n",
              "      <td>0101000020E610000036F1C4628AE655C0C29668DA0FE5...</td>\n",
              "      <td>NaN</td>\n",
              "      <td>NaN</td>\n",
              "      <td>False</td>\n",
              "      <td>NaN</td>\n",
              "      <td>NaN</td>\n",
              "      <td>9XX E 58TH STREET</td>\n",
              "      <td>1990-02-08</td>\n",
              "      <td>1989-09-05</td>\n",
              "      <td>204</td>\n",
              "      <td>1</td>\n",
              "      <td>NaN</td>\n",
              "      <td>2019-01-09 04:41:26.530261+00</td>\n",
              "      <td>2019-01-09 04:41:31.205347+00</td>\n",
              "      <td>False</td>\n",
              "      <td>NaN</td>\n",
              "      <td>3767</td>\n",
              "      <td>1989-09-05</td>\n",
              "      <td>1990-02-08</td>\n",
              "      <td>NaN</td>\n",
              "      <td>NaN</td>\n",
              "      <td>Unknown</td>\n",
              "      <td>SU</td>\n",
              "      <td>Reprimand</td>\n",
              "      <td>NaN</td>\n",
              "      <td>204</td>\n",
              "      <td>4138</td>\n",
              "      <td>True</td>\n",
              "      <td>2019-01-09 04:41:59.265501+00</td>\n",
              "      <td>2019-01-09 04:42:02.108401+00</td>\n",
              "      <td>C170725</td>\n",
              "      <td>204</td>\n",
              "      <td>10U</td>\n",
              "      <td>Operation/Personnel Violations</td>\n",
              "      <td>Inadequate / Failure To Provide Service</td>\n",
              "      <td>True</td>\n",
              "      <td>dept</td>\n",
              "      <td>2019-01-09 04:41:36.478496+00</td>\n",
              "      <td>2019-01-09 04:41:36.629666+00</td>\n",
              "    </tr>\n",
              "    <tr>\n",
              "      <th>4</th>\n",
              "      <td>C171736</td>\n",
              "      <td>NaN</td>\n",
              "      <td>NaN</td>\n",
              "      <td>NaN</td>\n",
              "      <td>1989-10-19 00:00:00+00</td>\n",
              "      <td>0101000020E610000087ECCDB9A5F355C0BF60376C5BF7...</td>\n",
              "      <td>NaN</td>\n",
              "      <td>NaN</td>\n",
              "      <td>False</td>\n",
              "      <td>NaN</td>\n",
              "      <td>NaN</td>\n",
              "      <td>28XX N HARLEM</td>\n",
              "      <td>1990-06-04</td>\n",
              "      <td>1989-10-19</td>\n",
              "      <td>31</td>\n",
              "      <td>1</td>\n",
              "      <td>NaN</td>\n",
              "      <td>2019-01-09 04:41:26.530261+00</td>\n",
              "      <td>2019-01-09 04:41:31.205347+00</td>\n",
              "      <td>False</td>\n",
              "      <td>NaN</td>\n",
              "      <td>5210</td>\n",
              "      <td>1989-10-19</td>\n",
              "      <td>1990-06-04</td>\n",
              "      <td>NaN</td>\n",
              "      <td>NaN</td>\n",
              "      <td>Unknown</td>\n",
              "      <td>SU</td>\n",
              "      <td>Reprimand</td>\n",
              "      <td>NaN</td>\n",
              "      <td>31</td>\n",
              "      <td>20132</td>\n",
              "      <td>True</td>\n",
              "      <td>2019-01-09 04:41:59.265501+00</td>\n",
              "      <td>2019-01-09 04:42:02.108401+00</td>\n",
              "      <td>C171736</td>\n",
              "      <td>31</td>\n",
              "      <td>01A</td>\n",
              "      <td>Verbal Abuse</td>\n",
              "      <td>Use Of Profanity</td>\n",
              "      <td>True</td>\n",
              "      <td>citizen</td>\n",
              "      <td>2019-01-09 04:41:36.478496+00</td>\n",
              "      <td>2019-01-09 04:41:36.629666+00</td>\n",
              "    </tr>\n",
              "  </tbody>\n",
              "</table>\n",
              "</div>"
            ],
            "text/plain": [
              "      crid  ...                   updated_at.2\n",
              "0  C181899  ...  2019-01-09 04:41:36.629666+00\n",
              "1  1054738  ...  2019-01-09 04:41:36.629666+00\n",
              "2  1067064  ...  2019-01-09 04:41:36.629666+00\n",
              "3  C170725  ...  2019-01-09 04:41:36.629666+00\n",
              "4  C171736  ...  2019-01-09 04:41:36.629666+00\n",
              "\n",
              "[5 rows x 44 columns]"
            ]
          },
          "metadata": {},
          "execution_count": 94
        }
      ]
    },
    {
      "cell_type": "code",
      "metadata": {
        "id": "BCVs8oIa1dn0"
      },
      "source": [
        "df = df[['crid','cr_text','final_finding','category']]\n"
      ],
      "execution_count": null,
      "outputs": []
    },
    {
      "cell_type": "code",
      "metadata": {
        "colab": {
          "base_uri": "https://localhost:8080/"
        },
        "id": "pg8TMZ_31uGX",
        "outputId": "b7e43e40-174b-4dba-c36f-973e104eb49f"
      },
      "source": [
        "df.info()"
      ],
      "execution_count": null,
      "outputs": [
        {
          "output_type": "stream",
          "name": "stdout",
          "text": [
            "<class 'pandas.core.frame.DataFrame'>\n",
            "RangeIndex: 40844 entries, 0 to 40843\n",
            "Data columns (total 4 columns):\n",
            " #   Column         Non-Null Count  Dtype \n",
            "---  ------         --------------  ----- \n",
            " 0   crid           40844 non-null  object\n",
            " 1   cr_text        1239 non-null   object\n",
            " 2   final_finding  33215 non-null  object\n",
            " 3   category       40844 non-null  object\n",
            "dtypes: object(4)\n",
            "memory usage: 1.2+ MB\n"
          ]
        }
      ]
    },
    {
      "cell_type": "code",
      "metadata": {
        "id": "8soK9JMehYLy"
      },
      "source": [
        "df = df[df['cr_text'].notna()]"
      ],
      "execution_count": null,
      "outputs": []
    },
    {
      "cell_type": "code",
      "metadata": {
        "colab": {
          "base_uri": "https://localhost:8080/"
        },
        "id": "njcjK5yr0aA_",
        "outputId": "4eaae27e-b9b7-400b-ab01-869b09888f7b"
      },
      "source": [
        "df.info()"
      ],
      "execution_count": null,
      "outputs": [
        {
          "output_type": "stream",
          "name": "stdout",
          "text": [
            "<class 'pandas.core.frame.DataFrame'>\n",
            "Int64Index: 1239 entries, 1 to 34559\n",
            "Data columns (total 4 columns):\n",
            " #   Column         Non-Null Count  Dtype \n",
            "---  ------         --------------  ----- \n",
            " 0   crid           1239 non-null   object\n",
            " 1   cr_text        1239 non-null   object\n",
            " 2   final_finding  320 non-null    object\n",
            " 3   category       1239 non-null   object\n",
            "dtypes: object(4)\n",
            "memory usage: 48.4+ KB\n"
          ]
        }
      ]
    },
    {
      "cell_type": "code",
      "metadata": {
        "id": "rBt61hch0bOM"
      },
      "source": [
        "def print_plot(index):\n",
        "    example = df[df.index == index][['cr_text', 'category']].values[0]\n",
        "    if len(example) > 0:\n",
        "        print(example[0])\n",
        "        print('Category:', example[1])"
      ],
      "execution_count": null,
      "outputs": []
    },
    {
      "cell_type": "code",
      "metadata": {
        "id": "TMyhVQRS2C_y"
      },
      "source": [
        "df = df.reset_index(drop=True)\n",
        "REPLACE_BY_SPACE_RE = re.compile('[/(){}\\[\\]\\|@,;]')\n",
        "BAD_SYMBOLS_RE = re.compile('[^0-9a-z #+_]')\n",
        "STOPWORDS = set(stopwords.words('english'))\n",
        "\n",
        "def clean_text(text):\n",
        "    \"\"\"\n",
        "        text: a string\n",
        "        \n",
        "        return: modified initial string\n",
        "    \"\"\"\n",
        "    text = text.lower() # lowercase text\n",
        "    text = REPLACE_BY_SPACE_RE.sub(' ', text) # replace REPLACE_BY_SPACE_RE symbols by space in text. substitute the matched string in REPLACE_BY_SPACE_RE with space.\n",
        "    text = BAD_SYMBOLS_RE.sub('', text) # remove symbols which are in BAD_SYMBOLS_RE from text. substitute the matched string in BAD_SYMBOLS_RE with nothing. \n",
        "    text = text.replace('x', '')\n",
        "#    text = re.sub(r'\\W+', '', text)\n",
        "    text = ' '.join(word for word in text.split() if word not in STOPWORDS) # remove stopwors from text\n",
        "    return text\n",
        "df['cr_text'] = df['cr_text'].apply(clean_text)"
      ],
      "execution_count": null,
      "outputs": []
    },
    {
      "cell_type": "code",
      "metadata": {
        "id": "vpGm23nk2QRx"
      },
      "source": [
        "df['cr_text'] = df['cr_text'].str.replace('\\d+', '')"
      ],
      "execution_count": null,
      "outputs": []
    },
    {
      "cell_type": "code",
      "metadata": {
        "id": "x35ftXvq2S1A"
      },
      "source": [
        "df['cr_text'] = df['cr_text'].astype(str)"
      ],
      "execution_count": null,
      "outputs": []
    },
    {
      "cell_type": "code",
      "metadata": {
        "colab": {
          "base_uri": "https://localhost:8080/"
        },
        "id": "LSUa3FBG2xSR",
        "outputId": "838c6df9-09f9-4013-8545-61ceb41119e8"
      },
      "source": [
        "print_plot(10)"
      ],
      "execution_count": null,
      "outputs": [
        {
          "output_type": "stream",
          "name": "stdout",
          "text": [
            "initial intake allegation  reporting party alleges accusedofficer failed return inventory herpurseinitial intake allegation  reporting party alleges accusedofficer failed return inventory herpurseallegation  itis alleged  sep  accused arestedcomplainant pcs without legal justificationitis alleged e accused arrestedcomplainant ustificationitis alleged arrestof complainant aited follow properinventory procedures outinedinis alleged  sep  arrestof complainant accused talled o follow properinventory procedures outlineis alleged  sep  uring arrestof complainant  follow properinventory procedures outlinedis alleged  sep  uring arrestof complainan iled follow properinventory procedures outlined ifinding  none entered\n",
            "Category: Lockup Procedures\n"
          ]
        }
      ]
    },
    {
      "cell_type": "code",
      "metadata": {
        "colab": {
          "base_uri": "https://localhost:8080/"
        },
        "id": "JhkLENbj-UIy",
        "outputId": "e2dff13c-414c-47a0-9583-7a179ae52221"
      },
      "source": [
        "print_plot(100)"
      ],
      "execution_count": null,
      "outputs": [
        {
          "output_type": "stream",
          "name": "stdout",
          "text": [
            "initial intake allegation  reporting party alleges accusedofficers arrested without justification itis alleged accused officersthreatened send victim back thejoint provide information aboutpeople neighborhood amurder alleged accusedofficers handcuffed victim placedhim cell several hoursinitial intake allegation  reporting party alleges accusedofficers arrested without justification itis alleged accused officersthreatened send victim back thejoint provide information aboutpeople neighborhood amurder alleged accusedofficers handcuffed victim placedhimin cell several hoursallegation  complainant alleged  august t  hours unknown accused arrested himwithout justificationthe complainant alleged  august  hours unknown accused threatened send topenitentiary provide information pertaining murder whileplaced cell several hoursthe complainant alleged  august  hours unknown accused knownas po laureto # th dist dtl unit  po# th dist dtl unit  arrested underwithout justificationthe complainant __lleged  august  hours unknown accused knownas po laureto # th dist dtl unit  po# th dist dtl unit  threatened send thepenitentiary provide information murderwhile placed cell several hoursfinding  none entered\n",
            "Category: False Arrest\n"
          ]
        }
      ]
    },
    {
      "cell_type": "code",
      "metadata": {
        "colab": {
          "base_uri": "https://localhost:8080/"
        },
        "id": "TdBj1S3m-WL8",
        "outputId": "47ac486f-3a01-4208-820d-c5ee3138ed0c"
      },
      "source": [
        "# The maximum number of words to be used. (most frequent)\n",
        "MAX_NB_WORDS = 50000\n",
        "# Max number of words in each complaint.\n",
        "MAX_SEQUENCE_LENGTH = 250\n",
        "# This is fixed.\n",
        "EMBEDDING_DIM = 100\n",
        "\n",
        "tokenizer = Tokenizer(num_words=MAX_NB_WORDS, filters='!\"#$%&()*+,-./:;<=>?@[\\]^_`{|}~', lower=True)\n",
        "tokenizer.fit_on_texts(df['cr_text'].values)\n",
        "word_index = tokenizer.word_index\n",
        "print('Found %s unique tokens.' % len(word_index))"
      ],
      "execution_count": null,
      "outputs": [
        {
          "output_type": "stream",
          "name": "stdout",
          "text": [
            "Found 6806 unique tokens.\n"
          ]
        }
      ]
    },
    {
      "cell_type": "code",
      "metadata": {
        "colab": {
          "base_uri": "https://localhost:8080/"
        },
        "id": "nflr4phE-dhL",
        "outputId": "f485c52b-97a8-4861-e0d6-3ebf25a5358a"
      },
      "source": [
        "X = tokenizer.texts_to_sequences(df['cr_text'].values)\n",
        "X = pad_sequences(X, maxlen=MAX_SEQUENCE_LENGTH)\n",
        "print('Shape of data tensor:', X.shape)"
      ],
      "execution_count": null,
      "outputs": [
        {
          "output_type": "stream",
          "name": "stdout",
          "text": [
            "Shape of data tensor: (1239, 250)\n"
          ]
        }
      ]
    },
    {
      "cell_type": "code",
      "metadata": {
        "colab": {
          "base_uri": "https://localhost:8080/"
        },
        "id": "9ytu8ClI-hTE",
        "outputId": "a324f8b3-652a-43cd-8cca-bb32f7abf8b7"
      },
      "source": [
        "Y = pd.get_dummies(df['category']).values\n",
        "print('Shape of label tensor:', Y.shape)"
      ],
      "execution_count": null,
      "outputs": [
        {
          "output_type": "stream",
          "name": "stdout",
          "text": [
            "Shape of label tensor: (1239, 12)\n"
          ]
        }
      ]
    },
    {
      "cell_type": "code",
      "metadata": {
        "colab": {
          "base_uri": "https://localhost:8080/"
        },
        "id": "EaOPpEEF-kwE",
        "outputId": "ea1eea1a-23b0-41ea-ae94-2d384d4a6794"
      },
      "source": [
        "X_train, X_test, Y_train, Y_test = train_test_split(X,Y, test_size = 0.10, random_state = 42)\n",
        "print(X_train.shape,Y_train.shape)\n",
        "print(X_test.shape,Y_test.shape)"
      ],
      "execution_count": null,
      "outputs": [
        {
          "output_type": "stream",
          "name": "stdout",
          "text": [
            "(1115, 250) (1115, 12)\n",
            "(124, 250) (124, 12)\n"
          ]
        }
      ]
    },
    {
      "cell_type": "code",
      "metadata": {
        "colab": {
          "base_uri": "https://localhost:8080/"
        },
        "id": "UvZx_wGF-m3v",
        "outputId": "5ef7ca80-c433-4729-c16a-7c3856ab0ffb"
      },
      "source": [
        "model = Sequential()\n",
        "model.add(Embedding(MAX_NB_WORDS, EMBEDDING_DIM, input_length=X.shape[1]))\n",
        "model.add(SpatialDropout1D(0.2))\n",
        "model.add(LSTM(100, dropout=0.2, recurrent_dropout=0.2))\n",
        "model.add(Dense(12, activation='softmax'))\n",
        "model.compile(loss='categorical_crossentropy', optimizer='adam', metrics=['accuracy'])\n",
        "print(model.summary())"
      ],
      "execution_count": null,
      "outputs": [
        {
          "output_type": "stream",
          "name": "stdout",
          "text": [
            "Model: \"sequential_4\"\n",
            "_________________________________________________________________\n",
            " Layer (type)                Output Shape              Param #   \n",
            "=================================================================\n",
            " embedding_4 (Embedding)     (None, 250, 100)          5000000   \n",
            "                                                                 \n",
            " spatial_dropout1d_4 (Spatia  (None, 250, 100)         0         \n",
            " lDropout1D)                                                     \n",
            "                                                                 \n",
            " lstm_4 (LSTM)               (None, 100)               80400     \n",
            "                                                                 \n",
            " dense_4 (Dense)             (None, 12)                1212      \n",
            "                                                                 \n",
            "=================================================================\n",
            "Total params: 5,081,612\n",
            "Trainable params: 5,081,612\n",
            "Non-trainable params: 0\n",
            "_________________________________________________________________\n",
            "None\n"
          ]
        }
      ]
    },
    {
      "cell_type": "code",
      "metadata": {
        "colab": {
          "base_uri": "https://localhost:8080/"
        },
        "id": "o9SfsdyE-ptc",
        "outputId": "062fe969-bea4-455a-d0c6-b7517d89d6ff"
      },
      "source": [
        "epochs = 15\n",
        "batch_size = 64\n",
        "\n",
        "history = model.fit(X_train, Y_train, epochs=epochs, batch_size=batch_size,validation_split=0.1,callbacks=[EarlyStopping(monitor='val_loss', patience=3, min_delta=0.0001)])"
      ],
      "execution_count": null,
      "outputs": [
        {
          "output_type": "stream",
          "name": "stdout",
          "text": [
            "Epoch 1/15\n",
            "16/16 [==============================] - 16s 787ms/step - loss: 2.1747 - accuracy: 0.3689 - val_loss: 1.8035 - val_accuracy: 0.3571\n",
            "Epoch 2/15\n",
            "16/16 [==============================] - 12s 758ms/step - loss: 1.6790 - accuracy: 0.3509 - val_loss: 1.6884 - val_accuracy: 0.3571\n",
            "Epoch 3/15\n",
            "16/16 [==============================] - 12s 765ms/step - loss: 1.6086 - accuracy: 0.4068 - val_loss: 1.6349 - val_accuracy: 0.3571\n",
            "Epoch 4/15\n",
            "16/16 [==============================] - 12s 757ms/step - loss: 1.4802 - accuracy: 0.5025 - val_loss: 1.4584 - val_accuracy: 0.4911\n",
            "Epoch 5/15\n",
            "16/16 [==============================] - 12s 760ms/step - loss: 1.0743 - accuracy: 0.6500 - val_loss: 1.1381 - val_accuracy: 0.6161\n",
            "Epoch 6/15\n",
            "16/16 [==============================] - 12s 760ms/step - loss: 0.7538 - accuracy: 0.7836 - val_loss: 1.2175 - val_accuracy: 0.6250\n",
            "Epoch 7/15\n",
            "16/16 [==============================] - 12s 750ms/step - loss: 0.5333 - accuracy: 0.8315 - val_loss: 0.8708 - val_accuracy: 0.7321\n",
            "Epoch 8/15\n",
            "16/16 [==============================] - 12s 758ms/step - loss: 0.3928 - accuracy: 0.8953 - val_loss: 0.8534 - val_accuracy: 0.7857\n",
            "Epoch 9/15\n",
            "16/16 [==============================] - 12s 761ms/step - loss: 0.3101 - accuracy: 0.9123 - val_loss: 0.8595 - val_accuracy: 0.7768\n",
            "Epoch 10/15\n",
            "16/16 [==============================] - 12s 756ms/step - loss: 0.2535 - accuracy: 0.9242 - val_loss: 0.8664 - val_accuracy: 0.7589\n",
            "Epoch 11/15\n",
            "16/16 [==============================] - 12s 760ms/step - loss: 0.2080 - accuracy: 0.9382 - val_loss: 0.7926 - val_accuracy: 0.7946\n",
            "Epoch 12/15\n",
            "16/16 [==============================] - 12s 751ms/step - loss: 0.1725 - accuracy: 0.9591 - val_loss: 0.8745 - val_accuracy: 0.7946\n",
            "Epoch 13/15\n",
            "16/16 [==============================] - 12s 749ms/step - loss: 0.1397 - accuracy: 0.9671 - val_loss: 0.9324 - val_accuracy: 0.8304\n",
            "Epoch 14/15\n",
            "16/16 [==============================] - 12s 755ms/step - loss: 0.1323 - accuracy: 0.9701 - val_loss: 0.8807 - val_accuracy: 0.8214\n"
          ]
        }
      ]
    },
    {
      "cell_type": "code",
      "metadata": {
        "colab": {
          "base_uri": "https://localhost:8080/"
        },
        "id": "5Q4cJKQE-svy",
        "outputId": "6da1d579-e35e-472d-b532-c13eaaeb1ae1"
      },
      "source": [
        "accr = model.evaluate(X_test,Y_test)\n",
        "print('Test set\\n  Loss: {:0.3f}\\n  Accuracy: {:0.3f}'.format(accr[0],accr[1]))"
      ],
      "execution_count": null,
      "outputs": [
        {
          "output_type": "stream",
          "name": "stdout",
          "text": [
            "4/4 [==============================] - 0s 67ms/step - loss: 0.7560 - accuracy: 0.8387\n",
            "Test set\n",
            "  Loss: 0.756\n",
            "  Accuracy: 0.839\n"
          ]
        }
      ]
    },
    {
      "cell_type": "code",
      "metadata": {
        "colab": {
          "base_uri": "https://localhost:8080/",
          "height": 281
        },
        "id": "6M1OeiJHAY_l",
        "outputId": "e1603194-f621-45d4-91d1-ed40a292223b"
      },
      "source": [
        "plt.title('Loss')\n",
        "plt.plot(history.history['loss'], label='train')\n",
        "plt.plot(history.history['val_loss'], label='test')\n",
        "plt.legend()\n",
        "plt.show();"
      ],
      "execution_count": null,
      "outputs": [
        {
          "output_type": "display_data",
          "data": {
            "image/png": "[encoded data removed]",
            "text/plain": [
              "<Figure size 432x288 with 1 Axes>"
            ]
          },
          "metadata": {
            "needs_background": "light"
          }
        }
      ]
    },
    {
      "cell_type": "code",
      "metadata": {
        "colab": {
          "base_uri": "https://localhost:8080/"
        },
        "id": "ISsjA1wFAgaB",
        "outputId": "04d4b5ed-a3ed-4d43-8842-9a30158d6c2c"
      },
      "source": [
        "new_complaint = ['The police officer beat me violently.']\n",
        "seq = tokenizer.texts_to_sequences(new_complaint)\n",
        "padded = pad_sequences(seq, maxlen=MAX_SEQUENCE_LENGTH)\n",
        "pred = model.predict(padded)\n",
        "labels = ['Operation/Personnel Violations', 'Use Of Force', 'Illegal Search', 'Lockup Procedures', 'Verbal Abuse', 'False Arrest', 'Conduct Unbecoming (Off-Duty)', 'Traffic', 'Criminal Misconduct', 'Domestic', 'Supervisory Responsibilities', 'Drug / Alcohol Abuse', 'Bribery / Official Corruption','Money / Property','First Amendment','Unknown','Racial Profiling','Excessive Force','Medical']\n",
        "print(pred, labels[np.argmax(pred)])"
      ],
      "execution_count": null,
      "outputs": [
        {
          "output_type": "stream",
          "name": "stdout",
          "text": [
            "[[1.0476216e-02 1.6276800e-03 1.8676515e-03 5.2242414e-03 3.0487163e-03\n",
            "  3.5333028e-03 3.7485335e-02 9.2879039e-01 2.6779559e-03 8.8565249e-04\n",
            "  2.7407457e-03 1.6421608e-03]] Traffic\n"
          ]
        }
      ]
    },
    {
      "cell_type": "code",
      "metadata": {
        "id": "RAda_gXuDk2W"
      },
      "source": [
        ""
      ],
      "execution_count": null,
      "outputs": []
    }
  ]
}