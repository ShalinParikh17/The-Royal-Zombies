{
  "nbformat": 4,
  "nbformat_minor": 0,
  "metadata": {
    "colab": {
      "name": "CP5 - part 2",
      "provenance": []
    },
    "kernelspec": {
      "name": "python3",
      "display_name": "Python 3"
    },
    "language_info": {
      "name": "python"
    }
  },
  "cells": [
    {
      "cell_type": "code",
      "metadata": {
        "colab": {
          "base_uri": "https://localhost:8080/",
          "height": 292
        },
        "id": "fzGopFuHdZmI",
        "outputId": "2f1dfda6-dc2e-4cd4-ac8e-3298a1e76851"
      },
      "source": [
        "import numpy as np \n",
        "import pandas as pd\n",
        "import matplotlib.pyplot as plt\n",
        "import seaborn as sns\n",
        "from keras.preprocessing.text import Tokenizer\n",
        "from keras.preprocessing.sequence import pad_sequences\n",
        "from keras.models import Sequential\n",
        "from keras.layers import Dense, Embedding, LSTM, SpatialDropout1D\n",
        "from sklearn.model_selection import train_test_split\n",
        "from keras.utils.np_utils import to_categorical\n",
        "from keras.callbacks import EarlyStopping\n",
        "from keras.layers import Dropout\n",
        "import re\n",
        "import nltk\n",
        "nltk.download('stopwords')\n",
        "from nltk.corpus import stopwords\n",
        "from nltk import word_tokenize\n",
        "STOPWORDS = set(stopwords.words('english'))\n",
        "from bs4 import BeautifulSoup\n",
        "import plotly.graph_objs as go\n",
        "!pip3 install chart-studio\n",
        "import cufflinks\n",
        "from IPython.core.interactiveshell import InteractiveShell\n",
        "import plotly.figure_factory as ff\n",
        "InteractiveShell.ast_node_interactivity = 'all'\n",
        "from plotly.offline import iplot\n",
        "cufflinks.go_offline()\n",
        "cufflinks.set_config_file(world_readable=True, theme='pearl')"
      ],
      "execution_count": 1,
      "outputs": [
        {
          "output_type": "stream",
          "name": "stdout",
          "text": [
            "[nltk_data] Downloading package stopwords to /root/nltk_data...\n",
            "[nltk_data]   Unzipping corpora/stopwords.zip.\n",
            "Collecting chart-studio\n",
            "  Downloading chart_studio-1.1.0-py3-none-any.whl (64 kB)\n",
            "\u001b[K     |████████████████████████████████| 64 kB 2.5 MB/s \n",
            "\u001b[?25hRequirement already satisfied: six in /usr/local/lib/python3.7/dist-packages (from chart-studio) (1.15.0)\n",
            "Requirement already satisfied: plotly in /usr/local/lib/python3.7/dist-packages (from chart-studio) (4.4.1)\n",
            "Requirement already satisfied: requests in /usr/local/lib/python3.7/dist-packages (from chart-studio) (2.23.0)\n",
            "Requirement already satisfied: retrying>=1.3.3 in /usr/local/lib/python3.7/dist-packages (from chart-studio) (1.3.3)\n",
            "Requirement already satisfied: certifi>=2017.4.17 in /usr/local/lib/python3.7/dist-packages (from requests->chart-studio) (2021.10.8)\n",
            "Requirement already satisfied: urllib3!=1.25.0,!=1.25.1,<1.26,>=1.21.1 in /usr/local/lib/python3.7/dist-packages (from requests->chart-studio) (1.24.3)\n",
            "Requirement already satisfied: idna<3,>=2.5 in /usr/local/lib/python3.7/dist-packages (from requests->chart-studio) (2.10)\n",
            "Requirement already satisfied: chardet<4,>=3.0.2 in /usr/local/lib/python3.7/dist-packages (from requests->chart-studio) (3.0.4)\n",
            "Installing collected packages: chart-studio\n",
            "Successfully installed chart-studio-1.1.0\n"
          ]
        },
        {
          "output_type": "display_data",
          "data": {
            "text/html": [
              "        <script type=\"text/javascript\">\n",
              "        window.PlotlyConfig = {MathJaxConfig: 'local'};\n",
              "        if (window.MathJax) {MathJax.Hub.Config({SVG: {font: \"STIX-Web\"}});}\n",
              "        if (typeof require !== 'undefined') {\n",
              "        require.undef(\"plotly\");\n",
              "        requirejs.config({\n",
              "            paths: {\n",
              "                'plotly': ['https://cdn.plot.ly/plotly-latest.min']\n",
              "            }\n",
              "        });\n",
              "        require(['plotly'], function(Plotly) {\n",
              "            window._Plotly = Plotly;\n",
              "        });\n",
              "        }\n",
              "        </script>\n",
              "        "
            ]
          },
          "metadata": {}
        }
      ]
    },
    {
      "cell_type": "code",
      "metadata": {
        "id": "EgN6u0nbdee1"
      },
      "source": [
        "df = pd.read_csv('/content/NLP.csv',low_memory=False)"
      ],
      "execution_count": 4,
      "outputs": []
    },
    {
      "cell_type": "code",
      "metadata": {
        "colab": {
          "base_uri": "https://localhost:8080/",
          "height": 343
        },
        "id": "hTGjcI06fU4-",
        "outputId": "ae6ca926-ccc8-46d1-d354-c8814384ab9b"
      },
      "source": [
        "df.head()"
      ],
      "execution_count": 5,
      "outputs": [
        {
          "output_type": "execute_result",
          "data": {
            "text/html": [
              "<div>\n",
              "<style scoped>\n",
              "    .dataframe tbody tr th:only-of-type {\n",
              "        vertical-align: middle;\n",
              "    }\n",
              "\n",
              "    .dataframe tbody tr th {\n",
              "        vertical-align: top;\n",
              "    }\n",
              "\n",
              "    .dataframe thead th {\n",
              "        text-align: right;\n",
              "    }\n",
              "</style>\n",
              "<table border=\"1\" class=\"dataframe\">\n",
              "  <thead>\n",
              "    <tr style=\"text-align: right;\">\n",
              "      <th></th>\n",
              "      <th>crid</th>\n",
              "      <th>summary</th>\n",
              "      <th>add2</th>\n",
              "      <th>city</th>\n",
              "      <th>incident_date</th>\n",
              "      <th>point</th>\n",
              "      <th>source</th>\n",
              "      <th>beat_id</th>\n",
              "      <th>is_officer_complaint</th>\n",
              "      <th>add1</th>\n",
              "      <th>location</th>\n",
              "      <th>old_complaint_address</th>\n",
              "      <th>first_end_date</th>\n",
              "      <th>first_start_date</th>\n",
              "      <th>most_common_category_id</th>\n",
              "      <th>coaccused_count</th>\n",
              "      <th>subjects</th>\n",
              "      <th>created_at</th>\n",
              "      <th>updated_at</th>\n",
              "      <th>is_extracted_summary</th>\n",
              "      <th>cr_text</th>\n",
              "      <th>id</th>\n",
              "      <th>start_date</th>\n",
              "      <th>end_date</th>\n",
              "      <th>officer_age</th>\n",
              "      <th>recc_finding</th>\n",
              "      <th>recc_outcome</th>\n",
              "      <th>final_finding</th>\n",
              "      <th>final_outcome</th>\n",
              "      <th>final_outcome_class</th>\n",
              "      <th>allegation_category_id</th>\n",
              "      <th>officer_id</th>\n",
              "      <th>disciplined</th>\n",
              "      <th>created_at.1</th>\n",
              "      <th>updated_at.1</th>\n",
              "      <th>allegation_id</th>\n",
              "      <th>id.1</th>\n",
              "      <th>category_code</th>\n",
              "      <th>category</th>\n",
              "      <th>allegation_name</th>\n",
              "      <th>on_duty</th>\n",
              "      <th>citizen_dept</th>\n",
              "      <th>created_at.2</th>\n",
              "      <th>updated_at.2</th>\n",
              "    </tr>\n",
              "  </thead>\n",
              "  <tbody>\n",
              "    <tr>\n",
              "      <th>0</th>\n",
              "      <td>C181899</td>\n",
              "      <td>NaN</td>\n",
              "      <td>NaN</td>\n",
              "      <td>NaN</td>\n",
              "      <td>1986-06-02 00:00:00+00</td>\n",
              "      <td>0101000020E6100000379902E3AAEE55C0C5D3E1D7FEEA...</td>\n",
              "      <td>NaN</td>\n",
              "      <td>NaN</td>\n",
              "      <td>False</td>\n",
              "      <td>NaN</td>\n",
              "      <td>NaN</td>\n",
              "      <td>31XX S KEELER</td>\n",
              "      <td>1994-01-12</td>\n",
              "      <td>1991-01-23</td>\n",
              "      <td>159</td>\n",
              "      <td>1</td>\n",
              "      <td>NaN</td>\n",
              "      <td>2019-01-09 04:41:26.530261+00</td>\n",
              "      <td>2019-01-09 04:41:31.205347+00</td>\n",
              "      <td>False</td>\n",
              "      <td>NaN</td>\n",
              "      <td>11062</td>\n",
              "      <td>1991-01-23</td>\n",
              "      <td>1994-01-12</td>\n",
              "      <td>NaN</td>\n",
              "      <td>NaN</td>\n",
              "      <td>Unknown</td>\n",
              "      <td>SU</td>\n",
              "      <td>Separation</td>\n",
              "      <td>NaN</td>\n",
              "      <td>159</td>\n",
              "      <td>31597</td>\n",
              "      <td>True</td>\n",
              "      <td>2019-01-09 04:41:59.265501+00</td>\n",
              "      <td>2019-01-09 04:42:02.108401+00</td>\n",
              "      <td>C181899</td>\n",
              "      <td>159</td>\n",
              "      <td>08N</td>\n",
              "      <td>Criminal Misconduct</td>\n",
              "      <td>Conspiracy To Commit A Crime</td>\n",
              "      <td>True</td>\n",
              "      <td>citizen</td>\n",
              "      <td>2019-01-09 04:41:36.478496+00</td>\n",
              "      <td>2019-01-09 04:41:36.629666+00</td>\n",
              "    </tr>\n",
              "    <tr>\n",
              "      <th>1</th>\n",
              "      <td>1054738</td>\n",
              "      <td>NaN</td>\n",
              "      <td>S JUSTINE ST Apt: 1</td>\n",
              "      <td>CHICAGO IL 60620</td>\n",
              "      <td>2012-06-13 00:00:00+00</td>\n",
              "      <td>0101000020E6100000FA5866B650EA55C003C70A2362DC...</td>\n",
              "      <td>NaN</td>\n",
              "      <td>244.0</td>\n",
              "      <td>False</td>\n",
              "      <td>94XX</td>\n",
              "      <td>Public Way - Other</td>\n",
              "      <td>NaN</td>\n",
              "      <td>2012-09-20</td>\n",
              "      <td>2012-06-13</td>\n",
              "      <td>204</td>\n",
              "      <td>2</td>\n",
              "      <td>NaN</td>\n",
              "      <td>2019-01-09 04:41:26.530261+00</td>\n",
              "      <td>2019-01-09 04:41:31.205347+00</td>\n",
              "      <td>False</td>\n",
              "      <td>Initial / Intake Allegation 1: The complainant...</td>\n",
              "      <td>224509</td>\n",
              "      <td>2012-06-13</td>\n",
              "      <td>2012-09-20</td>\n",
              "      <td>NaN</td>\n",
              "      <td>NaN</td>\n",
              "      <td>Unknown</td>\n",
              "      <td>NaN</td>\n",
              "      <td>Unknown</td>\n",
              "      <td>NaN</td>\n",
              "      <td>204</td>\n",
              "      <td>22604</td>\n",
              "      <td>NaN</td>\n",
              "      <td>2019-01-09 04:41:59.265501+00</td>\n",
              "      <td>2019-01-09 04:42:02.108401+00</td>\n",
              "      <td>1054738</td>\n",
              "      <td>204</td>\n",
              "      <td>10U</td>\n",
              "      <td>Operation/Personnel Violations</td>\n",
              "      <td>Inadequate / Failure To Provide Service</td>\n",
              "      <td>True</td>\n",
              "      <td>dept</td>\n",
              "      <td>2019-01-09 04:41:36.478496+00</td>\n",
              "      <td>2019-01-09 04:41:36.629666+00</td>\n",
              "    </tr>\n",
              "    <tr>\n",
              "      <th>2</th>\n",
              "      <td>1067064</td>\n",
              "      <td>NaN</td>\n",
              "      <td>NaN</td>\n",
              "      <td>NaN</td>\n",
              "      <td>2014-01-16 00:00:00+00</td>\n",
              "      <td>NaN</td>\n",
              "      <td>NaN</td>\n",
              "      <td>224.0</td>\n",
              "      <td>False</td>\n",
              "      <td>NaN</td>\n",
              "      <td>Private Residence</td>\n",
              "      <td>NaN</td>\n",
              "      <td>2014-04-03</td>\n",
              "      <td>2014-01-16</td>\n",
              "      <td>96</td>\n",
              "      <td>3</td>\n",
              "      <td>NaN</td>\n",
              "      <td>2019-01-09 04:41:26.530261+00</td>\n",
              "      <td>2019-01-09 04:41:31.205347+00</td>\n",
              "      <td>False</td>\n",
              "      <td>NaN</td>\n",
              "      <td>232360</td>\n",
              "      <td>2014-01-16</td>\n",
              "      <td>2014-04-03</td>\n",
              "      <td>NaN</td>\n",
              "      <td>NaN</td>\n",
              "      <td>Unknown</td>\n",
              "      <td>NaN</td>\n",
              "      <td>Unknown</td>\n",
              "      <td>NaN</td>\n",
              "      <td>96</td>\n",
              "      <td>17087</td>\n",
              "      <td>NaN</td>\n",
              "      <td>2019-01-09 04:41:59.265501+00</td>\n",
              "      <td>2019-01-09 04:42:02.108401+00</td>\n",
              "      <td>1067064</td>\n",
              "      <td>96</td>\n",
              "      <td>04J</td>\n",
              "      <td>Lockup Procedures</td>\n",
              "      <td>Miscellaneous</td>\n",
              "      <td>True</td>\n",
              "      <td>citizen</td>\n",
              "      <td>2019-01-09 04:41:36.478496+00</td>\n",
              "      <td>2019-01-09 04:41:36.629666+00</td>\n",
              "    </tr>\n",
              "    <tr>\n",
              "      <th>3</th>\n",
              "      <td>C170725</td>\n",
              "      <td>NaN</td>\n",
              "      <td>NaN</td>\n",
              "      <td>NaN</td>\n",
              "      <td>1989-09-05 00:00:00+00</td>\n",
              "      <td>0101000020E610000036F1C4628AE655C0C29668DA0FE5...</td>\n",
              "      <td>NaN</td>\n",
              "      <td>NaN</td>\n",
              "      <td>False</td>\n",
              "      <td>NaN</td>\n",
              "      <td>NaN</td>\n",
              "      <td>9XX E 58TH STREET</td>\n",
              "      <td>1990-02-08</td>\n",
              "      <td>1989-09-05</td>\n",
              "      <td>204</td>\n",
              "      <td>1</td>\n",
              "      <td>NaN</td>\n",
              "      <td>2019-01-09 04:41:26.530261+00</td>\n",
              "      <td>2019-01-09 04:41:31.205347+00</td>\n",
              "      <td>False</td>\n",
              "      <td>NaN</td>\n",
              "      <td>3767</td>\n",
              "      <td>1989-09-05</td>\n",
              "      <td>1990-02-08</td>\n",
              "      <td>NaN</td>\n",
              "      <td>NaN</td>\n",
              "      <td>Unknown</td>\n",
              "      <td>SU</td>\n",
              "      <td>Reprimand</td>\n",
              "      <td>NaN</td>\n",
              "      <td>204</td>\n",
              "      <td>4138</td>\n",
              "      <td>True</td>\n",
              "      <td>2019-01-09 04:41:59.265501+00</td>\n",
              "      <td>2019-01-09 04:42:02.108401+00</td>\n",
              "      <td>C170725</td>\n",
              "      <td>204</td>\n",
              "      <td>10U</td>\n",
              "      <td>Operation/Personnel Violations</td>\n",
              "      <td>Inadequate / Failure To Provide Service</td>\n",
              "      <td>True</td>\n",
              "      <td>dept</td>\n",
              "      <td>2019-01-09 04:41:36.478496+00</td>\n",
              "      <td>2019-01-09 04:41:36.629666+00</td>\n",
              "    </tr>\n",
              "    <tr>\n",
              "      <th>4</th>\n",
              "      <td>C171736</td>\n",
              "      <td>NaN</td>\n",
              "      <td>NaN</td>\n",
              "      <td>NaN</td>\n",
              "      <td>1989-10-19 00:00:00+00</td>\n",
              "      <td>0101000020E610000087ECCDB9A5F355C0BF60376C5BF7...</td>\n",
              "      <td>NaN</td>\n",
              "      <td>NaN</td>\n",
              "      <td>False</td>\n",
              "      <td>NaN</td>\n",
              "      <td>NaN</td>\n",
              "      <td>28XX N HARLEM</td>\n",
              "      <td>1990-06-04</td>\n",
              "      <td>1989-10-19</td>\n",
              "      <td>31</td>\n",
              "      <td>1</td>\n",
              "      <td>NaN</td>\n",
              "      <td>2019-01-09 04:41:26.530261+00</td>\n",
              "      <td>2019-01-09 04:41:31.205347+00</td>\n",
              "      <td>False</td>\n",
              "      <td>NaN</td>\n",
              "      <td>5210</td>\n",
              "      <td>1989-10-19</td>\n",
              "      <td>1990-06-04</td>\n",
              "      <td>NaN</td>\n",
              "      <td>NaN</td>\n",
              "      <td>Unknown</td>\n",
              "      <td>SU</td>\n",
              "      <td>Reprimand</td>\n",
              "      <td>NaN</td>\n",
              "      <td>31</td>\n",
              "      <td>20132</td>\n",
              "      <td>True</td>\n",
              "      <td>2019-01-09 04:41:59.265501+00</td>\n",
              "      <td>2019-01-09 04:42:02.108401+00</td>\n",
              "      <td>C171736</td>\n",
              "      <td>31</td>\n",
              "      <td>01A</td>\n",
              "      <td>Verbal Abuse</td>\n",
              "      <td>Use Of Profanity</td>\n",
              "      <td>True</td>\n",
              "      <td>citizen</td>\n",
              "      <td>2019-01-09 04:41:36.478496+00</td>\n",
              "      <td>2019-01-09 04:41:36.629666+00</td>\n",
              "    </tr>\n",
              "  </tbody>\n",
              "</table>\n",
              "</div>"
            ],
            "text/plain": [
              "      crid  ...                   updated_at.2\n",
              "0  C181899  ...  2019-01-09 04:41:36.629666+00\n",
              "1  1054738  ...  2019-01-09 04:41:36.629666+00\n",
              "2  1067064  ...  2019-01-09 04:41:36.629666+00\n",
              "3  C170725  ...  2019-01-09 04:41:36.629666+00\n",
              "4  C171736  ...  2019-01-09 04:41:36.629666+00\n",
              "\n",
              "[5 rows x 44 columns]"
            ]
          },
          "metadata": {},
          "execution_count": 5
        }
      ]
    },
    {
      "cell_type": "code",
      "metadata": {
        "colab": {
          "base_uri": "https://localhost:8080/"
        },
        "id": "ZNUQgg3mfZ22",
        "outputId": "bf0da71d-5c86-42f7-c065-1825bb48ab98"
      },
      "source": [
        "df.info()"
      ],
      "execution_count": 6,
      "outputs": [
        {
          "output_type": "stream",
          "name": "stdout",
          "text": [
            "<class 'pandas.core.frame.DataFrame'>\n",
            "RangeIndex: 248321 entries, 0 to 248320\n",
            "Data columns (total 44 columns):\n",
            " #   Column                   Non-Null Count   Dtype  \n",
            "---  ------                   --------------   -----  \n",
            " 0   crid                     248321 non-null  object \n",
            " 1   summary                  1825 non-null    object \n",
            " 2   add2                     95796 non-null   object \n",
            " 3   city                     97779 non-null   object \n",
            " 4   incident_date            248244 non-null  object \n",
            " 5   point                    208136 non-null  object \n",
            " 6   source                   45 non-null      object \n",
            " 7   beat_id                  119019 non-null  float64\n",
            " 8   is_officer_complaint     248321 non-null  bool   \n",
            " 9   add1                     94212 non-null   object \n",
            " 10  location                 130345 non-null  object \n",
            " 11  old_complaint_address    110046 non-null  object \n",
            " 12  first_end_date           243020 non-null  object \n",
            " 13  first_start_date         248321 non-null  object \n",
            " 14  most_common_category_id  248321 non-null  int64  \n",
            " 15  coaccused_count          248321 non-null  int64  \n",
            " 16  subjects                 150 non-null     object \n",
            " 17  created_at               248321 non-null  object \n",
            " 18  updated_at               248321 non-null  object \n",
            " 19  is_extracted_summary     248321 non-null  bool   \n",
            " 20  cr_text                  6222 non-null    object \n",
            " 21  id                       248321 non-null  int64  \n",
            " 22  start_date               248321 non-null  object \n",
            " 23  end_date                 243020 non-null  object \n",
            " 24  officer_age              0 non-null       float64\n",
            " 25  recc_finding             85888 non-null   object \n",
            " 26  recc_outcome             248321 non-null  object \n",
            " 27  final_finding            206630 non-null  object \n",
            " 28  final_outcome            248321 non-null  object \n",
            " 29  final_outcome_class      0 non-null       float64\n",
            " 30  allegation_category_id   248321 non-null  int64  \n",
            " 31  officer_id               248321 non-null  int64  \n",
            " 32  disciplined              236469 non-null  object \n",
            " 33  created_at.1             248321 non-null  object \n",
            " 34  updated_at.1             248321 non-null  object \n",
            " 35  allegation_id            248321 non-null  object \n",
            " 36  id.1                     248321 non-null  int64  \n",
            " 37  category_code            248321 non-null  object \n",
            " 38  category                 248321 non-null  object \n",
            " 39  allegation_name          248321 non-null  object \n",
            " 40  on_duty                  248321 non-null  bool   \n",
            " 41  citizen_dept             248318 non-null  object \n",
            " 42  created_at.2             248321 non-null  object \n",
            " 43  updated_at.2             248321 non-null  object \n",
            "dtypes: bool(3), float64(3), int64(6), object(32)\n",
            "memory usage: 78.4+ MB\n"
          ]
        }
      ]
    },
    {
      "cell_type": "code",
      "metadata": {
        "colab": {
          "base_uri": "https://localhost:8080/"
        },
        "id": "dsUlMPehffdO",
        "outputId": "5329ec7f-cae3-4fca-b145-9c1ddb7f0ef9"
      },
      "source": [
        "df.final_finding.value_counts()"
      ],
      "execution_count": 7,
      "outputs": [
        {
          "output_type": "execute_result",
          "data": {
            "text/plain": [
              "NS    114166\n",
              "UN     53094\n",
              "SU     21989\n",
              "EX     17322\n",
              "NC        47\n",
              "DS        12\n",
              "Name: final_finding, dtype: int64"
            ]
          },
          "metadata": {},
          "execution_count": 7
        }
      ]
    },
    {
      "cell_type": "code",
      "metadata": {
        "colab": {
          "base_uri": "https://localhost:8080/"
        },
        "id": "7FfUZZEeisWt",
        "outputId": "bd9fd7cd-6ceb-4a3e-eafe-e150f13ff807"
      },
      "source": [
        "df.info()"
      ],
      "execution_count": 8,
      "outputs": [
        {
          "output_type": "stream",
          "name": "stdout",
          "text": [
            "<class 'pandas.core.frame.DataFrame'>\n",
            "RangeIndex: 248321 entries, 0 to 248320\n",
            "Data columns (total 44 columns):\n",
            " #   Column                   Non-Null Count   Dtype  \n",
            "---  ------                   --------------   -----  \n",
            " 0   crid                     248321 non-null  object \n",
            " 1   summary                  1825 non-null    object \n",
            " 2   add2                     95796 non-null   object \n",
            " 3   city                     97779 non-null   object \n",
            " 4   incident_date            248244 non-null  object \n",
            " 5   point                    208136 non-null  object \n",
            " 6   source                   45 non-null      object \n",
            " 7   beat_id                  119019 non-null  float64\n",
            " 8   is_officer_complaint     248321 non-null  bool   \n",
            " 9   add1                     94212 non-null   object \n",
            " 10  location                 130345 non-null  object \n",
            " 11  old_complaint_address    110046 non-null  object \n",
            " 12  first_end_date           243020 non-null  object \n",
            " 13  first_start_date         248321 non-null  object \n",
            " 14  most_common_category_id  248321 non-null  int64  \n",
            " 15  coaccused_count          248321 non-null  int64  \n",
            " 16  subjects                 150 non-null     object \n",
            " 17  created_at               248321 non-null  object \n",
            " 18  updated_at               248321 non-null  object \n",
            " 19  is_extracted_summary     248321 non-null  bool   \n",
            " 20  cr_text                  6222 non-null    object \n",
            " 21  id                       248321 non-null  int64  \n",
            " 22  start_date               248321 non-null  object \n",
            " 23  end_date                 243020 non-null  object \n",
            " 24  officer_age              0 non-null       float64\n",
            " 25  recc_finding             85888 non-null   object \n",
            " 26  recc_outcome             248321 non-null  object \n",
            " 27  final_finding            206630 non-null  object \n",
            " 28  final_outcome            248321 non-null  object \n",
            " 29  final_outcome_class      0 non-null       float64\n",
            " 30  allegation_category_id   248321 non-null  int64  \n",
            " 31  officer_id               248321 non-null  int64  \n",
            " 32  disciplined              236469 non-null  object \n",
            " 33  created_at.1             248321 non-null  object \n",
            " 34  updated_at.1             248321 non-null  object \n",
            " 35  allegation_id            248321 non-null  object \n",
            " 36  id.1                     248321 non-null  int64  \n",
            " 37  category_code            248321 non-null  object \n",
            " 38  category                 248321 non-null  object \n",
            " 39  allegation_name          248321 non-null  object \n",
            " 40  on_duty                  248321 non-null  bool   \n",
            " 41  citizen_dept             248318 non-null  object \n",
            " 42  created_at.2             248321 non-null  object \n",
            " 43  updated_at.2             248321 non-null  object \n",
            "dtypes: bool(3), float64(3), int64(6), object(32)\n",
            "memory usage: 78.4+ MB\n"
          ]
        }
      ]
    },
    {
      "cell_type": "code",
      "metadata": {
        "colab": {
          "base_uri": "https://localhost:8080/"
        },
        "id": "c7A_LBajyshX",
        "outputId": "0dae068e-477a-420f-d6c9-fbc45a4084fe"
      },
      "source": [
        "df.info()"
      ],
      "execution_count": 9,
      "outputs": [
        {
          "output_type": "stream",
          "name": "stdout",
          "text": [
            "<class 'pandas.core.frame.DataFrame'>\n",
            "RangeIndex: 248321 entries, 0 to 248320\n",
            "Data columns (total 44 columns):\n",
            " #   Column                   Non-Null Count   Dtype  \n",
            "---  ------                   --------------   -----  \n",
            " 0   crid                     248321 non-null  object \n",
            " 1   summary                  1825 non-null    object \n",
            " 2   add2                     95796 non-null   object \n",
            " 3   city                     97779 non-null   object \n",
            " 4   incident_date            248244 non-null  object \n",
            " 5   point                    208136 non-null  object \n",
            " 6   source                   45 non-null      object \n",
            " 7   beat_id                  119019 non-null  float64\n",
            " 8   is_officer_complaint     248321 non-null  bool   \n",
            " 9   add1                     94212 non-null   object \n",
            " 10  location                 130345 non-null  object \n",
            " 11  old_complaint_address    110046 non-null  object \n",
            " 12  first_end_date           243020 non-null  object \n",
            " 13  first_start_date         248321 non-null  object \n",
            " 14  most_common_category_id  248321 non-null  int64  \n",
            " 15  coaccused_count          248321 non-null  int64  \n",
            " 16  subjects                 150 non-null     object \n",
            " 17  created_at               248321 non-null  object \n",
            " 18  updated_at               248321 non-null  object \n",
            " 19  is_extracted_summary     248321 non-null  bool   \n",
            " 20  cr_text                  6222 non-null    object \n",
            " 21  id                       248321 non-null  int64  \n",
            " 22  start_date               248321 non-null  object \n",
            " 23  end_date                 243020 non-null  object \n",
            " 24  officer_age              0 non-null       float64\n",
            " 25  recc_finding             85888 non-null   object \n",
            " 26  recc_outcome             248321 non-null  object \n",
            " 27  final_finding            206630 non-null  object \n",
            " 28  final_outcome            248321 non-null  object \n",
            " 29  final_outcome_class      0 non-null       float64\n",
            " 30  allegation_category_id   248321 non-null  int64  \n",
            " 31  officer_id               248321 non-null  int64  \n",
            " 32  disciplined              236469 non-null  object \n",
            " 33  created_at.1             248321 non-null  object \n",
            " 34  updated_at.1             248321 non-null  object \n",
            " 35  allegation_id            248321 non-null  object \n",
            " 36  id.1                     248321 non-null  int64  \n",
            " 37  category_code            248321 non-null  object \n",
            " 38  category                 248321 non-null  object \n",
            " 39  allegation_name          248321 non-null  object \n",
            " 40  on_duty                  248321 non-null  bool   \n",
            " 41  citizen_dept             248318 non-null  object \n",
            " 42  created_at.2             248321 non-null  object \n",
            " 43  updated_at.2             248321 non-null  object \n",
            "dtypes: bool(3), float64(3), int64(6), object(32)\n",
            "memory usage: 78.4+ MB\n"
          ]
        }
      ]
    },
    {
      "cell_type": "code",
      "metadata": {
        "id": "-2zVx01dhYJp",
        "colab": {
          "base_uri": "https://localhost:8080/",
          "height": 343
        },
        "outputId": "338f0b62-f81b-48ad-f3b9-bcd7c71555cb"
      },
      "source": [
        "df.head()"
      ],
      "execution_count": 10,
      "outputs": [
        {
          "output_type": "execute_result",
          "data": {
            "text/html": [
              "<div>\n",
              "<style scoped>\n",
              "    .dataframe tbody tr th:only-of-type {\n",
              "        vertical-align: middle;\n",
              "    }\n",
              "\n",
              "    .dataframe tbody tr th {\n",
              "        vertical-align: top;\n",
              "    }\n",
              "\n",
              "    .dataframe thead th {\n",
              "        text-align: right;\n",
              "    }\n",
              "</style>\n",
              "<table border=\"1\" class=\"dataframe\">\n",
              "  <thead>\n",
              "    <tr style=\"text-align: right;\">\n",
              "      <th></th>\n",
              "      <th>crid</th>\n",
              "      <th>summary</th>\n",
              "      <th>add2</th>\n",
              "      <th>city</th>\n",
              "      <th>incident_date</th>\n",
              "      <th>point</th>\n",
              "      <th>source</th>\n",
              "      <th>beat_id</th>\n",
              "      <th>is_officer_complaint</th>\n",
              "      <th>add1</th>\n",
              "      <th>location</th>\n",
              "      <th>old_complaint_address</th>\n",
              "      <th>first_end_date</th>\n",
              "      <th>first_start_date</th>\n",
              "      <th>most_common_category_id</th>\n",
              "      <th>coaccused_count</th>\n",
              "      <th>subjects</th>\n",
              "      <th>created_at</th>\n",
              "      <th>updated_at</th>\n",
              "      <th>is_extracted_summary</th>\n",
              "      <th>cr_text</th>\n",
              "      <th>id</th>\n",
              "      <th>start_date</th>\n",
              "      <th>end_date</th>\n",
              "      <th>officer_age</th>\n",
              "      <th>recc_finding</th>\n",
              "      <th>recc_outcome</th>\n",
              "      <th>final_finding</th>\n",
              "      <th>final_outcome</th>\n",
              "      <th>final_outcome_class</th>\n",
              "      <th>allegation_category_id</th>\n",
              "      <th>officer_id</th>\n",
              "      <th>disciplined</th>\n",
              "      <th>created_at.1</th>\n",
              "      <th>updated_at.1</th>\n",
              "      <th>allegation_id</th>\n",
              "      <th>id.1</th>\n",
              "      <th>category_code</th>\n",
              "      <th>category</th>\n",
              "      <th>allegation_name</th>\n",
              "      <th>on_duty</th>\n",
              "      <th>citizen_dept</th>\n",
              "      <th>created_at.2</th>\n",
              "      <th>updated_at.2</th>\n",
              "    </tr>\n",
              "  </thead>\n",
              "  <tbody>\n",
              "    <tr>\n",
              "      <th>0</th>\n",
              "      <td>C181899</td>\n",
              "      <td>NaN</td>\n",
              "      <td>NaN</td>\n",
              "      <td>NaN</td>\n",
              "      <td>1986-06-02 00:00:00+00</td>\n",
              "      <td>0101000020E6100000379902E3AAEE55C0C5D3E1D7FEEA...</td>\n",
              "      <td>NaN</td>\n",
              "      <td>NaN</td>\n",
              "      <td>False</td>\n",
              "      <td>NaN</td>\n",
              "      <td>NaN</td>\n",
              "      <td>31XX S KEELER</td>\n",
              "      <td>1994-01-12</td>\n",
              "      <td>1991-01-23</td>\n",
              "      <td>159</td>\n",
              "      <td>1</td>\n",
              "      <td>NaN</td>\n",
              "      <td>2019-01-09 04:41:26.530261+00</td>\n",
              "      <td>2019-01-09 04:41:31.205347+00</td>\n",
              "      <td>False</td>\n",
              "      <td>NaN</td>\n",
              "      <td>11062</td>\n",
              "      <td>1991-01-23</td>\n",
              "      <td>1994-01-12</td>\n",
              "      <td>NaN</td>\n",
              "      <td>NaN</td>\n",
              "      <td>Unknown</td>\n",
              "      <td>SU</td>\n",
              "      <td>Separation</td>\n",
              "      <td>NaN</td>\n",
              "      <td>159</td>\n",
              "      <td>31597</td>\n",
              "      <td>True</td>\n",
              "      <td>2019-01-09 04:41:59.265501+00</td>\n",
              "      <td>2019-01-09 04:42:02.108401+00</td>\n",
              "      <td>C181899</td>\n",
              "      <td>159</td>\n",
              "      <td>08N</td>\n",
              "      <td>Criminal Misconduct</td>\n",
              "      <td>Conspiracy To Commit A Crime</td>\n",
              "      <td>True</td>\n",
              "      <td>citizen</td>\n",
              "      <td>2019-01-09 04:41:36.478496+00</td>\n",
              "      <td>2019-01-09 04:41:36.629666+00</td>\n",
              "    </tr>\n",
              "    <tr>\n",
              "      <th>1</th>\n",
              "      <td>1054738</td>\n",
              "      <td>NaN</td>\n",
              "      <td>S JUSTINE ST Apt: 1</td>\n",
              "      <td>CHICAGO IL 60620</td>\n",
              "      <td>2012-06-13 00:00:00+00</td>\n",
              "      <td>0101000020E6100000FA5866B650EA55C003C70A2362DC...</td>\n",
              "      <td>NaN</td>\n",
              "      <td>244.0</td>\n",
              "      <td>False</td>\n",
              "      <td>94XX</td>\n",
              "      <td>Public Way - Other</td>\n",
              "      <td>NaN</td>\n",
              "      <td>2012-09-20</td>\n",
              "      <td>2012-06-13</td>\n",
              "      <td>204</td>\n",
              "      <td>2</td>\n",
              "      <td>NaN</td>\n",
              "      <td>2019-01-09 04:41:26.530261+00</td>\n",
              "      <td>2019-01-09 04:41:31.205347+00</td>\n",
              "      <td>False</td>\n",
              "      <td>Initial / Intake Allegation 1: The complainant...</td>\n",
              "      <td>224509</td>\n",
              "      <td>2012-06-13</td>\n",
              "      <td>2012-09-20</td>\n",
              "      <td>NaN</td>\n",
              "      <td>NaN</td>\n",
              "      <td>Unknown</td>\n",
              "      <td>NaN</td>\n",
              "      <td>Unknown</td>\n",
              "      <td>NaN</td>\n",
              "      <td>204</td>\n",
              "      <td>22604</td>\n",
              "      <td>NaN</td>\n",
              "      <td>2019-01-09 04:41:59.265501+00</td>\n",
              "      <td>2019-01-09 04:42:02.108401+00</td>\n",
              "      <td>1054738</td>\n",
              "      <td>204</td>\n",
              "      <td>10U</td>\n",
              "      <td>Operation/Personnel Violations</td>\n",
              "      <td>Inadequate / Failure To Provide Service</td>\n",
              "      <td>True</td>\n",
              "      <td>dept</td>\n",
              "      <td>2019-01-09 04:41:36.478496+00</td>\n",
              "      <td>2019-01-09 04:41:36.629666+00</td>\n",
              "    </tr>\n",
              "    <tr>\n",
              "      <th>2</th>\n",
              "      <td>1067064</td>\n",
              "      <td>NaN</td>\n",
              "      <td>NaN</td>\n",
              "      <td>NaN</td>\n",
              "      <td>2014-01-16 00:00:00+00</td>\n",
              "      <td>NaN</td>\n",
              "      <td>NaN</td>\n",
              "      <td>224.0</td>\n",
              "      <td>False</td>\n",
              "      <td>NaN</td>\n",
              "      <td>Private Residence</td>\n",
              "      <td>NaN</td>\n",
              "      <td>2014-04-03</td>\n",
              "      <td>2014-01-16</td>\n",
              "      <td>96</td>\n",
              "      <td>3</td>\n",
              "      <td>NaN</td>\n",
              "      <td>2019-01-09 04:41:26.530261+00</td>\n",
              "      <td>2019-01-09 04:41:31.205347+00</td>\n",
              "      <td>False</td>\n",
              "      <td>NaN</td>\n",
              "      <td>232360</td>\n",
              "      <td>2014-01-16</td>\n",
              "      <td>2014-04-03</td>\n",
              "      <td>NaN</td>\n",
              "      <td>NaN</td>\n",
              "      <td>Unknown</td>\n",
              "      <td>NaN</td>\n",
              "      <td>Unknown</td>\n",
              "      <td>NaN</td>\n",
              "      <td>96</td>\n",
              "      <td>17087</td>\n",
              "      <td>NaN</td>\n",
              "      <td>2019-01-09 04:41:59.265501+00</td>\n",
              "      <td>2019-01-09 04:42:02.108401+00</td>\n",
              "      <td>1067064</td>\n",
              "      <td>96</td>\n",
              "      <td>04J</td>\n",
              "      <td>Lockup Procedures</td>\n",
              "      <td>Miscellaneous</td>\n",
              "      <td>True</td>\n",
              "      <td>citizen</td>\n",
              "      <td>2019-01-09 04:41:36.478496+00</td>\n",
              "      <td>2019-01-09 04:41:36.629666+00</td>\n",
              "    </tr>\n",
              "    <tr>\n",
              "      <th>3</th>\n",
              "      <td>C170725</td>\n",
              "      <td>NaN</td>\n",
              "      <td>NaN</td>\n",
              "      <td>NaN</td>\n",
              "      <td>1989-09-05 00:00:00+00</td>\n",
              "      <td>0101000020E610000036F1C4628AE655C0C29668DA0FE5...</td>\n",
              "      <td>NaN</td>\n",
              "      <td>NaN</td>\n",
              "      <td>False</td>\n",
              "      <td>NaN</td>\n",
              "      <td>NaN</td>\n",
              "      <td>9XX E 58TH STREET</td>\n",
              "      <td>1990-02-08</td>\n",
              "      <td>1989-09-05</td>\n",
              "      <td>204</td>\n",
              "      <td>1</td>\n",
              "      <td>NaN</td>\n",
              "      <td>2019-01-09 04:41:26.530261+00</td>\n",
              "      <td>2019-01-09 04:41:31.205347+00</td>\n",
              "      <td>False</td>\n",
              "      <td>NaN</td>\n",
              "      <td>3767</td>\n",
              "      <td>1989-09-05</td>\n",
              "      <td>1990-02-08</td>\n",
              "      <td>NaN</td>\n",
              "      <td>NaN</td>\n",
              "      <td>Unknown</td>\n",
              "      <td>SU</td>\n",
              "      <td>Reprimand</td>\n",
              "      <td>NaN</td>\n",
              "      <td>204</td>\n",
              "      <td>4138</td>\n",
              "      <td>True</td>\n",
              "      <td>2019-01-09 04:41:59.265501+00</td>\n",
              "      <td>2019-01-09 04:42:02.108401+00</td>\n",
              "      <td>C170725</td>\n",
              "      <td>204</td>\n",
              "      <td>10U</td>\n",
              "      <td>Operation/Personnel Violations</td>\n",
              "      <td>Inadequate / Failure To Provide Service</td>\n",
              "      <td>True</td>\n",
              "      <td>dept</td>\n",
              "      <td>2019-01-09 04:41:36.478496+00</td>\n",
              "      <td>2019-01-09 04:41:36.629666+00</td>\n",
              "    </tr>\n",
              "    <tr>\n",
              "      <th>4</th>\n",
              "      <td>C171736</td>\n",
              "      <td>NaN</td>\n",
              "      <td>NaN</td>\n",
              "      <td>NaN</td>\n",
              "      <td>1989-10-19 00:00:00+00</td>\n",
              "      <td>0101000020E610000087ECCDB9A5F355C0BF60376C5BF7...</td>\n",
              "      <td>NaN</td>\n",
              "      <td>NaN</td>\n",
              "      <td>False</td>\n",
              "      <td>NaN</td>\n",
              "      <td>NaN</td>\n",
              "      <td>28XX N HARLEM</td>\n",
              "      <td>1990-06-04</td>\n",
              "      <td>1989-10-19</td>\n",
              "      <td>31</td>\n",
              "      <td>1</td>\n",
              "      <td>NaN</td>\n",
              "      <td>2019-01-09 04:41:26.530261+00</td>\n",
              "      <td>2019-01-09 04:41:31.205347+00</td>\n",
              "      <td>False</td>\n",
              "      <td>NaN</td>\n",
              "      <td>5210</td>\n",
              "      <td>1989-10-19</td>\n",
              "      <td>1990-06-04</td>\n",
              "      <td>NaN</td>\n",
              "      <td>NaN</td>\n",
              "      <td>Unknown</td>\n",
              "      <td>SU</td>\n",
              "      <td>Reprimand</td>\n",
              "      <td>NaN</td>\n",
              "      <td>31</td>\n",
              "      <td>20132</td>\n",
              "      <td>True</td>\n",
              "      <td>2019-01-09 04:41:59.265501+00</td>\n",
              "      <td>2019-01-09 04:42:02.108401+00</td>\n",
              "      <td>C171736</td>\n",
              "      <td>31</td>\n",
              "      <td>01A</td>\n",
              "      <td>Verbal Abuse</td>\n",
              "      <td>Use Of Profanity</td>\n",
              "      <td>True</td>\n",
              "      <td>citizen</td>\n",
              "      <td>2019-01-09 04:41:36.478496+00</td>\n",
              "      <td>2019-01-09 04:41:36.629666+00</td>\n",
              "    </tr>\n",
              "  </tbody>\n",
              "</table>\n",
              "</div>"
            ],
            "text/plain": [
              "      crid  ...                   updated_at.2\n",
              "0  C181899  ...  2019-01-09 04:41:36.629666+00\n",
              "1  1054738  ...  2019-01-09 04:41:36.629666+00\n",
              "2  1067064  ...  2019-01-09 04:41:36.629666+00\n",
              "3  C170725  ...  2019-01-09 04:41:36.629666+00\n",
              "4  C171736  ...  2019-01-09 04:41:36.629666+00\n",
              "\n",
              "[5 rows x 44 columns]"
            ]
          },
          "metadata": {},
          "execution_count": 10
        }
      ]
    },
    {
      "cell_type": "code",
      "metadata": {
        "id": "BCVs8oIa1dn0"
      },
      "source": [
        "df = df[['crid','cr_text','final_finding','category']]\n"
      ],
      "execution_count": 11,
      "outputs": []
    },
    {
      "cell_type": "code",
      "metadata": {
        "colab": {
          "base_uri": "https://localhost:8080/"
        },
        "id": "pg8TMZ_31uGX",
        "outputId": "bd979c84-bb10-4db2-e97e-31e16e724331"
      },
      "source": [
        "df.info()"
      ],
      "execution_count": 12,
      "outputs": [
        {
          "output_type": "stream",
          "name": "stdout",
          "text": [
            "<class 'pandas.core.frame.DataFrame'>\n",
            "RangeIndex: 248321 entries, 0 to 248320\n",
            "Data columns (total 4 columns):\n",
            " #   Column         Non-Null Count   Dtype \n",
            "---  ------         --------------   ----- \n",
            " 0   crid           248321 non-null  object\n",
            " 1   cr_text        6222 non-null    object\n",
            " 2   final_finding  206630 non-null  object\n",
            " 3   category       248321 non-null  object\n",
            "dtypes: object(4)\n",
            "memory usage: 7.6+ MB\n"
          ]
        }
      ]
    },
    {
      "cell_type": "code",
      "metadata": {
        "id": "8soK9JMehYLy"
      },
      "source": [
        "df = df[df['cr_text'].notna()]"
      ],
      "execution_count": 13,
      "outputs": []
    },
    {
      "cell_type": "code",
      "metadata": {
        "colab": {
          "base_uri": "https://localhost:8080/"
        },
        "id": "njcjK5yr0aA_",
        "outputId": "a9e285d8-877a-4e20-88f7-e304961e3fc7"
      },
      "source": [
        "df.info()"
      ],
      "execution_count": 14,
      "outputs": [
        {
          "output_type": "stream",
          "name": "stdout",
          "text": [
            "<class 'pandas.core.frame.DataFrame'>\n",
            "Int64Index: 6222 entries, 1 to 248318\n",
            "Data columns (total 4 columns):\n",
            " #   Column         Non-Null Count  Dtype \n",
            "---  ------         --------------  ----- \n",
            " 0   crid           6222 non-null   object\n",
            " 1   cr_text        6222 non-null   object\n",
            " 2   final_finding  1591 non-null   object\n",
            " 3   category       6222 non-null   object\n",
            "dtypes: object(4)\n",
            "memory usage: 243.0+ KB\n"
          ]
        }
      ]
    },
    {
      "cell_type": "code",
      "metadata": {
        "id": "rBt61hch0bOM"
      },
      "source": [
        "def print_plot(index):\n",
        "    example = df[df.index == index][['cr_text', 'category']].values[0]\n",
        "    if len(example) > 0:\n",
        "        print(example[0])\n",
        "        print('Category:', example[1])"
      ],
      "execution_count": 15,
      "outputs": []
    },
    {
      "cell_type": "code",
      "metadata": {
        "id": "TMyhVQRS2C_y"
      },
      "source": [
        "df = df.reset_index(drop=True)\n",
        "REPLACE_BY_SPACE_RE = re.compile('[/(){}\\[\\]\\|@,;]')\n",
        "BAD_SYMBOLS_RE = re.compile('[^0-9a-z #+_]')\n",
        "STOPWORDS = set(stopwords.words('english'))\n",
        "\n",
        "def clean_text(text):\n",
        "    \"\"\"\n",
        "        text: a string\n",
        "        \n",
        "        return: modified initial string\n",
        "    \"\"\"\n",
        "    text = text.lower() # lowercase text\n",
        "    text = REPLACE_BY_SPACE_RE.sub(' ', text) # replace REPLACE_BY_SPACE_RE symbols by space in text. substitute the matched string in REPLACE_BY_SPACE_RE with space.\n",
        "    text = BAD_SYMBOLS_RE.sub('', text) # remove symbols which are in BAD_SYMBOLS_RE from text. substitute the matched string in BAD_SYMBOLS_RE with nothing. \n",
        "    text = text.replace('x', '')\n",
        "#    text = re.sub(r'\\W+', '', text)\n",
        "    text = ' '.join(word for word in text.split() if word not in STOPWORDS) # remove stopwors from text\n",
        "    return text\n",
        "df['cr_text'] = df['cr_text'].apply(clean_text)"
      ],
      "execution_count": 16,
      "outputs": []
    },
    {
      "cell_type": "code",
      "metadata": {
        "id": "vpGm23nk2QRx"
      },
      "source": [
        "df['cr_text'] = df['cr_text'].str.replace('\\d+', '')"
      ],
      "execution_count": 17,
      "outputs": []
    },
    {
      "cell_type": "code",
      "metadata": {
        "id": "x35ftXvq2S1A"
      },
      "source": [
        "df['cr_text'] = df['cr_text'].astype(str)"
      ],
      "execution_count": 18,
      "outputs": []
    },
    {
      "cell_type": "code",
      "metadata": {
        "colab": {
          "base_uri": "https://localhost:8080/"
        },
        "id": "LSUa3FBG2xSR",
        "outputId": "1cf24ae9-0dad-4699-fd70-177e51666ec8"
      },
      "source": [
        "print_plot(10)"
      ],
      "execution_count": 19,
      "outputs": [
        {
          "output_type": "stream",
          "name": "stdout",
          "text": [
            "initial intake allegation  reporting party alleges accusedofficer failed return inventory herpurseinitial intake allegation  reporting party alleges accusedofficer failed return inventory herpurseallegation  itis alleged  sep  accused arestedcomplainant pcs without legal justificationitis alleged e accused arrestedcomplainant ustificationitis alleged arrestof complainant aited follow properinventory procedures outinedinis alleged  sep  arrestof complainant accused talled o follow properinventory procedures outlineis alleged  sep  uring arrestof complainant  follow properinventory procedures outlinedis alleged  sep  uring arrestof complainan iled follow properinventory procedures outlined ifinding  none entered\n",
            "Category: Lockup Procedures\n"
          ]
        }
      ]
    },
    {
      "cell_type": "code",
      "metadata": {
        "colab": {
          "base_uri": "https://localhost:8080/"
        },
        "id": "JhkLENbj-UIy",
        "outputId": "eff32625-ddfb-4a06-f2e8-9575eb84ad2c"
      },
      "source": [
        "print_plot(100)"
      ],
      "execution_count": 20,
      "outputs": [
        {
          "output_type": "stream",
          "name": "stdout",
          "text": [
            "initial intake allegation  reporting party alleges accusedofficers arrested without justification itis alleged accused officersthreatened send victim back thejoint provide information aboutpeople neighborhood amurder alleged accusedofficers handcuffed victim placedhim cell several hoursinitial intake allegation  reporting party alleges accusedofficers arrested without justification itis alleged accused officersthreatened send victim back thejoint provide information aboutpeople neighborhood amurder alleged accusedofficers handcuffed victim placedhimin cell several hoursallegation  complainant alleged  august t  hours unknown accused arrested himwithout justificationthe complainant alleged  august  hours unknown accused threatened send topenitentiary provide information pertaining murder whileplaced cell several hoursthe complainant alleged  august  hours unknown accused knownas po laureto # th dist dtl unit  po# th dist dtl unit  arrested underwithout justificationthe complainant __lleged  august  hours unknown accused knownas po laureto # th dist dtl unit  po# th dist dtl unit  threatened send thepenitentiary provide information murderwhile placed cell several hoursfinding  none entered\n",
            "Category: False Arrest\n"
          ]
        }
      ]
    },
    {
      "cell_type": "code",
      "metadata": {
        "colab": {
          "base_uri": "https://localhost:8080/"
        },
        "id": "TdBj1S3m-WL8",
        "outputId": "255a2473-26a6-4dce-bc37-95b5c3b8e160"
      },
      "source": [
        "# The maximum number of words to be used. (most frequent)\n",
        "MAX_NB_WORDS = 50000\n",
        "# Max number of words in each complaint.\n",
        "MAX_SEQUENCE_LENGTH = 250\n",
        "# This is fixed.\n",
        "EMBEDDING_DIM = 100\n",
        "\n",
        "tokenizer = Tokenizer(num_words=MAX_NB_WORDS, filters='!\"#$%&()*+,-./:;<=>?@[\\]^_`{|}~', lower=True)\n",
        "tokenizer.fit_on_texts(df['cr_text'].values)\n",
        "word_index = tokenizer.word_index\n",
        "print('Found %s unique tokens.' % len(word_index))"
      ],
      "execution_count": 21,
      "outputs": [
        {
          "output_type": "stream",
          "name": "stdout",
          "text": [
            "Found 22537 unique tokens.\n"
          ]
        }
      ]
    },
    {
      "cell_type": "code",
      "metadata": {
        "colab": {
          "base_uri": "https://localhost:8080/"
        },
        "id": "nflr4phE-dhL",
        "outputId": "041eb434-bde8-458e-dd16-3c14ff7dea73"
      },
      "source": [
        "X = tokenizer.texts_to_sequences(df['cr_text'].values)\n",
        "X = pad_sequences(X, maxlen=MAX_SEQUENCE_LENGTH)\n",
        "print('Shape of data tensor:', X.shape)"
      ],
      "execution_count": 22,
      "outputs": [
        {
          "output_type": "stream",
          "name": "stdout",
          "text": [
            "Shape of data tensor: (6222, 250)\n"
          ]
        }
      ]
    },
    {
      "cell_type": "code",
      "metadata": {
        "colab": {
          "base_uri": "https://localhost:8080/"
        },
        "id": "9ytu8ClI-hTE",
        "outputId": "45310f20-a8fb-44df-f42a-66390239a832"
      },
      "source": [
        "Y = pd.get_dummies(df['final_finding']).values\n",
        "print('Shape of label tensor:', Y.shape)"
      ],
      "execution_count": 23,
      "outputs": [
        {
          "output_type": "stream",
          "name": "stdout",
          "text": [
            "Shape of label tensor: (6222, 4)\n"
          ]
        }
      ]
    },
    {
      "cell_type": "code",
      "metadata": {
        "colab": {
          "base_uri": "https://localhost:8080/"
        },
        "id": "EaOPpEEF-kwE",
        "outputId": "64562313-0ebb-425d-a351-7da544287497"
      },
      "source": [
        "X_train, X_test, Y_train, Y_test = train_test_split(X,Y, test_size = 0.10, random_state = 42)\n",
        "print(X_train.shape,Y_train.shape)\n",
        "print(X_test.shape,Y_test.shape)"
      ],
      "execution_count": 24,
      "outputs": [
        {
          "output_type": "stream",
          "name": "stdout",
          "text": [
            "(5599, 250) (5599, 4)\n",
            "(623, 250) (623, 4)\n"
          ]
        }
      ]
    },
    {
      "cell_type": "code",
      "metadata": {
        "colab": {
          "base_uri": "https://localhost:8080/"
        },
        "id": "UvZx_wGF-m3v",
        "outputId": "b7e032aa-15da-49f7-e899-35271776e7e7"
      },
      "source": [
        "model = Sequential()\n",
        "model.add(Embedding(MAX_NB_WORDS, EMBEDDING_DIM, input_length=X.shape[1]))\n",
        "model.add(SpatialDropout1D(0.2))\n",
        "model.add(LSTM(100, dropout=0.2, recurrent_dropout=0.2))\n",
        "model.add(Dense(4, activation='softmax'))\n",
        "model.compile(loss='categorical_crossentropy', optimizer='adam', metrics=['accuracy'])\n",
        "print(model.summary())"
      ],
      "execution_count": 25,
      "outputs": [
        {
          "output_type": "stream",
          "name": "stdout",
          "text": [
            "Model: \"sequential\"\n",
            "_________________________________________________________________\n",
            " Layer (type)                Output Shape              Param #   \n",
            "=================================================================\n",
            " embedding (Embedding)       (None, 250, 100)          5000000   \n",
            "                                                                 \n",
            " spatial_dropout1d (SpatialD  (None, 250, 100)         0         \n",
            " ropout1D)                                                       \n",
            "                                                                 \n",
            " lstm (LSTM)                 (None, 100)               80400     \n",
            "                                                                 \n",
            " dense (Dense)               (None, 4)                 404       \n",
            "                                                                 \n",
            "=================================================================\n",
            "Total params: 5,080,804\n",
            "Trainable params: 5,080,804\n",
            "Non-trainable params: 0\n",
            "_________________________________________________________________\n",
            "None\n"
          ]
        }
      ]
    },
    {
      "cell_type": "code",
      "metadata": {
        "colab": {
          "base_uri": "https://localhost:8080/"
        },
        "id": "o9SfsdyE-ptc",
        "outputId": "38ec6a51-c502-4fb5-836f-84d0912e60a4"
      },
      "source": [
        "epochs = 10\n",
        "batch_size = 64\n",
        "\n",
        "history = model.fit(X_train, Y_train, epochs=epochs, batch_size=batch_size,validation_split=0.1,callbacks=[EarlyStopping(monitor='val_loss', patience=3, min_delta=0.0001)])"
      ],
      "execution_count": 26,
      "outputs": [
        {
          "output_type": "stream",
          "name": "stdout",
          "text": [
            "Epoch 1/10\n",
            "79/79 [==============================] - 62s 743ms/step - loss: 0.3414 - accuracy: 0.1643 - val_loss: 0.3479 - val_accuracy: 0.1143\n",
            "Epoch 2/10\n",
            "79/79 [==============================] - 59s 742ms/step - loss: 0.3384 - accuracy: 0.1062 - val_loss: 0.3460 - val_accuracy: 0.1143\n",
            "Epoch 3/10\n",
            "79/79 [==============================] - 59s 746ms/step - loss: 0.3384 - accuracy: 0.1062 - val_loss: 0.3462 - val_accuracy: 0.1143\n",
            "Epoch 4/10\n",
            "79/79 [==============================] - 59s 745ms/step - loss: 0.3380 - accuracy: 0.1062 - val_loss: 0.3463 - val_accuracy: 0.1143\n",
            "Epoch 5/10\n",
            "79/79 [==============================] - 59s 745ms/step - loss: 0.3381 - accuracy: 0.1062 - val_loss: 0.3452 - val_accuracy: 0.1143\n",
            "Epoch 6/10\n",
            "79/79 [==============================] - 59s 743ms/step - loss: 0.3379 - accuracy: 0.1062 - val_loss: 0.3443 - val_accuracy: 0.1143\n",
            "Epoch 7/10\n",
            "79/79 [==============================] - 59s 745ms/step - loss: 0.3378 - accuracy: 0.1062 - val_loss: 0.3455 - val_accuracy: 0.1143\n",
            "Epoch 8/10\n",
            "79/79 [==============================] - 58s 739ms/step - loss: 0.3376 - accuracy: 0.1062 - val_loss: 0.3465 - val_accuracy: 0.1143\n",
            "Epoch 9/10\n",
            "79/79 [==============================] - 59s 742ms/step - loss: 0.3376 - accuracy: 0.1062 - val_loss: 0.3435 - val_accuracy: 0.1143\n",
            "Epoch 10/10\n",
            "79/79 [==============================] - 59s 745ms/step - loss: 0.3380 - accuracy: 0.1062 - val_loss: 0.3448 - val_accuracy: 0.1143\n"
          ]
        }
      ]
    },
    {
      "cell_type": "code",
      "metadata": {
        "colab": {
          "base_uri": "https://localhost:8080/"
        },
        "id": "5Q4cJKQE-svy",
        "outputId": "a034e15e-1e93-4425-b65a-caa857051683"
      },
      "source": [
        "accr = model.evaluate(X_test,Y_test)\n",
        "print('Test set\\n  Loss: {:0.3f}\\n  Accuracy: {:0.3f}'.format(accr[0],accr[1]))"
      ],
      "execution_count": 27,
      "outputs": [
        {
          "output_type": "stream",
          "name": "stdout",
          "text": [
            "20/20 [==============================] - 1s 67ms/step - loss: 0.3503 - accuracy: 0.1380\n",
            "Test set\n",
            "  Loss: 0.350\n",
            "  Accuracy: 0.138\n"
          ]
        }
      ]
    },
    {
      "cell_type": "code",
      "metadata": {
        "colab": {
          "base_uri": "https://localhost:8080/",
          "height": 281
        },
        "id": "6M1OeiJHAY_l",
        "outputId": "f74d0468-a6e6-437b-cac2-1ef62cd2b712"
      },
      "source": [
        "plt.title('Loss')\n",
        "plt.plot(history.history['loss'], label='train')\n",
        "plt.plot(history.history['val_loss'], label='test')\n",
        "plt.legend()\n",
        "plt.show();"
      ],
      "execution_count": 28,
      "outputs": [
        {
          "output_type": "display_data",
          "data": {
            "image/png": "[encoded data removed]",
            "text/plain": [
              "<Figure size 432x288 with 1 Axes>"
            ]
          },
          "metadata": {
            "needs_background": "light"
          }
        }
      ]
    },
    {
      "cell_type": "code",
      "metadata": {
        "colab": {
          "base_uri": "https://localhost:8080/"
        },
        "id": "ISsjA1wFAgaB",
        "outputId": "982b7cf9-dca6-47c0-adc7-07eb24184e12"
      },
      "source": [
        "new_complaint = ['The police officer forcefully entered my house and planted a weapon on me']\n",
        "seq = tokenizer.texts_to_sequences(new_complaint)\n",
        "padded = pad_sequences(seq, maxlen=MAX_SEQUENCE_LENGTH)\n",
        "pred = model.predict(padded)\n",
        "labels = ['NS', 'UN', 'SU', 'EX','NC','DS']\n",
        "print(pred, labels[np.argmax(pred)])"
      ],
      "execution_count": 29,
      "outputs": [
        {
          "output_type": "stream",
          "name": "stdout",
          "text": [
            "[[0.23494983 0.3895837  0.15206465 0.22340186]] UN\n"
          ]
        }
      ]
    },
    {
      "cell_type": "code",
      "metadata": {
        "id": "RAda_gXuDk2W"
      },
      "source": [
        ""
      ],
      "execution_count": null,
      "outputs": []
    }
  ]
}