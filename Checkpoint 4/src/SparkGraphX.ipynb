{
  "nbformat": 4,
  "nbformat_minor": 0,
  "metadata": {
    "accelerator": "GPU",
    "colab": {
      "name": "SparkGraphX.ipynb",
      "provenance": [],
      "collapsed_sections": []
    },
    "kernelspec": {
      "display_name": "Python 3",
      "name": "python3"
    },
    "language_info": {
      "name": "python"
    }
  },
  "cells": [
    {
      "cell_type": "markdown",
      "metadata": {
        "id": "Nn2ZF49Zl_4o"
      },
      "source": [
        "# **Graph Analytics**\n",
        "**Using Spark GraphX**\n",
        "\n",
        "\n",
        "\n",
        "---\n"
      ]
    },
    {
      "cell_type": "markdown",
      "metadata": {
        "id": "UHMwakkymZfI"
      },
      "source": [
        "# **Spark and GraphFrames Set Up**\n"
      ]
    },
    {
      "cell_type": "code",
      "metadata": {
        "colab": {
          "base_uri": "https://localhost:8080/"
        },
        "id": "8q9GaenM0qTu",
        "outputId": "86d0dcf3-3ace-46ae-99ef-b8faea5f62ad"
      },
      "source": [
        "# install java\n",
        "!apt-get install openjdk-8-jdk-headless -qq > /dev/null\n",
        "\n",
        "# install spark (change the version number if needed)\n",
        "!wget -q https://archive.apache.org/dist/spark/spark-3.2.0/spark-3.2.0-bin-hadoop3.2.tgz\n",
        "\n",
        "# unzip the spark file to the current folder\n",
        "!tar xf spark-3.2.0-bin-hadoop3.2.tgz\n",
        "\n",
        "# set your spark folder to your system path environment. \n",
        "import os\n",
        "os.environ[\"JAVA_HOME\"] = \"/usr/lib/jvm/java-8-openjdk-amd64\"\n",
        "os.environ[\"SPARK_HOME\"] = \"/content/spark-3.2.0-bin-hadoop3.2\"\n",
        "\n",
        "# install findspark using pip\n",
        "!pip install -q findspark\n",
        "\n",
        "# install pyspark\n",
        "!pip3 install pyspark==3.2.0\n",
        "\n",
        "# install graphframes\n",
        "!pip3 install graphframes"
      ],
      "execution_count": null,
      "outputs": [
        {
          "name": "stdout",
          "output_type": "stream",
          "text": [
            "Collecting pyspark==3.2.0\n",
            "  Downloading pyspark-3.2.0.tar.gz (281.3 MB)\n",
            "\u001b[K     |████████████████████████████████| 281.3 MB 40 kB/s \n",
            "\u001b[?25hCollecting py4j==0.10.9.2\n",
            "  Downloading py4j-0.10.9.2-py2.py3-none-any.whl (198 kB)\n",
            "\u001b[K     |████████████████████████████████| 198 kB 37.4 MB/s \n",
            "\u001b[?25hBuilding wheels for collected packages: pyspark\n",
            "  Building wheel for pyspark (setup.py) ... \u001b[?25l\u001b[?25hdone\n",
            "  Created wheel for pyspark: filename=pyspark-3.2.0-py2.py3-none-any.whl size=281805912 sha256=24b4dbbce8a11a823426c0c768b341e641c074377f1de9a44bb84b94d11a35c5\n",
            "  Stored in directory: /root/.cache/pip/wheels/0b/de/d2/9be5d59d7331c6c2a7c1b6d1a4f463ce107332b1ecd4e80718\n",
            "Successfully built pyspark\n",
            "Installing collected packages: py4j, pyspark\n",
            "Successfully installed py4j-0.10.9.2 pyspark-3.2.0\n",
            "Collecting graphframes\n",
            "  Downloading graphframes-0.6-py2.py3-none-any.whl (18 kB)\n",
            "Requirement already satisfied: numpy in /usr/local/lib/python3.7/dist-packages (from graphframes) (1.19.5)\n",
            "Collecting nose\n",
            "  Downloading nose-1.3.7-py3-none-any.whl (154 kB)\n",
            "\u001b[K     |████████████████████████████████| 154 kB 12.3 MB/s \n",
            "\u001b[?25hInstalling collected packages: nose, graphframes\n",
            "Successfully installed graphframes-0.6 nose-1.3.7\n"
          ]
        }
      ]
    },
    {
      "cell_type": "markdown",
      "metadata": {
        "id": "Li40SzYtq0H6"
      },
      "source": [
        "Download the graphframes jar file from: [Graphframe jar file:](https://repos.spark-packages.org/graphframes/graphframes/0.8.2-spark3.2-s_2.12/graphframes-0.8.2-spark3.2-s_2.12.jar)\n",
        "\n",
        "Upload it in the Google Colab Files folder. Can be found in the left pane of this window."
      ]
    },
    {
      "cell_type": "code",
      "metadata": {
        "colab": {
          "base_uri": "https://localhost:8080/"
        },
        "id": "6MVIEKxAHykk",
        "outputId": "0584ee7f-4cfe-485a-8780-e3dd710e8d74"
      },
      "source": [
        "!cp -v /content/graphframes-0.8.2-spark3.2-s_2.12.jar $SPARK_HOME/jars/"
      ],
      "execution_count": null,
      "outputs": [
        {
          "name": "stdout",
          "output_type": "stream",
          "text": [
            "'/content/graphframes-0.8.2-spark3.2-s_2.12.jar' -> '/content/spark-3.2.0-bin-hadoop3.2/jars/graphframes-0.8.2-spark3.2-s_2.12.jar'\n"
          ]
        }
      ]
    },
    {
      "cell_type": "code",
      "metadata": {
        "id": "vMzCLSn81Grr"
      },
      "source": [
        "#import the packages\n",
        "from pyspark import *\n",
        "from pyspark.sql import *\n",
        "from graphframes import *\n",
        "import findspark\n",
        "import pandas as pd\n",
        "\n",
        "findspark.init()\n",
        "\n",
        "# Start a Spark session\n",
        "spark = SparkSession.builder.master(\"local[*]\").getOrCreate()"
      ],
      "execution_count": null,
      "outputs": []
    },
    {
      "cell_type": "markdown",
      "metadata": {
        "id": "PK860SmxxHRb"
      },
      "source": [
        "# **CPDB Analysis(1)**\n",
        "\n",
        "Analyze the police officers connection with allegations"
      ]
    },
    {
      "cell_type": "code",
      "metadata": {
        "colab": {
          "base_uri": "https://localhost:8080/"
        },
        "id": "1ei_oY0-OcaJ",
        "outputId": "ee2d2566-307a-4607-9ec4-3a620b9a7eaf"
      },
      "source": [
        "import psycopg2"
      ],
      "execution_count": null,
      "outputs": [
        {
          "name": "stderr",
          "output_type": "stream",
          "text": [
            "/usr/local/lib/python3.7/dist-packages/psycopg2/__init__.py:144: UserWarning: The psycopg2 wheel package will be renamed from release 2.8; in order to keep installing from binary please use \"pip install psycopg2-binary\" instead. For details see: <http://initd.org/psycopg/docs/install.html#binary-install-from-pypi>.\n",
            "  \"\"\")\n"
          ]
        }
      ]
    },
    {
      "cell_type": "code",
      "metadata": {
        "id": "L4YGowB2Occ7"
      },
      "source": [
        "# access the postgresql server\n",
        "conn = psycopg2.connect(\n",
        "    host=\"codd04.research.northwestern.edu\",\n",
        "    port = \"5433\",\n",
        "    database=\"postgres\",\n",
        "    user=\"cpdbstudent\",\n",
        "    password=\"DataSci4AI\")"
      ],
      "execution_count": null,
      "outputs": []
    },
    {
      "cell_type": "code",
      "metadata": {
        "id": "fUSZMYh5Ohg7"
      },
      "source": [
        "cursor = conn.cursor()"
      ],
      "execution_count": null,
      "outputs": []
    },
    {
      "cell_type": "markdown",
      "metadata": {
        "id": "xdjZye58yCEP"
      },
      "source": [
        "**Following query creates nodes and edges to answer the questions.**\n",
        "\n",
        "\n",
        "\n",
        "*   **nodes**: id, officer name and sustained count\n",
        "*   **edges**: src(officer1 id), dist(officer2 id) and relationship(sustained count)"
      ]
    },
    {
      "cell_type": "code",
      "metadata": {
        "id": "zkOfRw_FOhk0"
      },
      "source": [
        "edges_query = '''SELECT da1.officer_id src, da2.officer_id dst, count(da1.allegation_category_id) relationship\n",
        "FROM data_officerallegation da1 JOIN data_officerallegation da2\n",
        "    ON da1.allegation_id = da2.allegation_id AND da1.officer_id < da2.officer_id\n",
        "join data_officer d1 on da1.officer_id = d1.id\n",
        "join data_officer d2 on da2.officer_id = d2.id\n",
        "join data_allegationcategory d3 on da1.allegation_category_id = d3.id\n",
        "join data_allegationcategory d4 on da2.allegation_category_id = d4.id\n",
        "where da1.final_finding = 'SU' and d1.rank = 'Police Officer' and da2.final_finding = 'SU' and d2.rank = 'Police Officer'\n",
        "  and d3.category = 'Operation/Personnel Violations' and d4.category = 'Operation/Personnel Violations'\n",
        "group by da1.officer_id, da2.officer_id\n",
        "order by relationship desc;'''"
      ],
      "execution_count": null,
      "outputs": []
    },
    {
      "cell_type": "code",
      "metadata": {
        "id": "OcMIWVuTOl18"
      },
      "source": [
        "nodes_query = '''select da.id,da.first_name || ' ' || da.last_name officer_name,COUNT(d.category) as sustained_count\n",
        "from data_officer da\n",
        "join data_officerallegation doa on da.id = doa.officer_id\n",
        "join data_allegationcategory d on doa.allegation_category_id = d.id\n",
        "where da.rank = 'Police Officer' and doa.final_finding = 'SU' and d.category = 'Operation/Personnel Violations'\n",
        "group by da.id, d.category\n",
        "    order by da.id;'''"
      ],
      "execution_count": null,
      "outputs": []
    },
    {
      "cell_type": "code",
      "metadata": {
        "colab": {
          "base_uri": "https://localhost:8080/"
        },
        "id": "HAAAAxavOl7g",
        "outputId": "ff31df0c-f0c4-4094-e658-8db585678404"
      },
      "source": [
        "cursor.execute(edges_query)\n",
        "edges = cursor.fetchall()\n",
        "print(\"shape is: \" + str(len(edges))) # 17465\n",
        "\n",
        "df_edges = pd.DataFrame(edges)\n",
        "colnames = [desc[0] for desc in cursor.description]\n",
        "df_edges.columns = colnames\n",
        "\n",
        "print(df_edges.shape)"
      ],
      "execution_count": null,
      "outputs": [
        {
          "name": "stdout",
          "output_type": "stream",
          "text": [
            "shape is: 5273\n",
            "(5273, 3)\n"
          ]
        }
      ]
    },
    {
      "cell_type": "code",
      "metadata": {
        "colab": {
          "base_uri": "https://localhost:8080/"
        },
        "id": "itgubJqDOq-b",
        "outputId": "1336220a-2bb5-411c-a377-a9cf999c36dd"
      },
      "source": [
        "cursor.execute(nodes_query)\n",
        "nodes = cursor.fetchall()\n",
        "print(\"shape is: \" + str(len(nodes))) # 17465\n",
        "\n",
        "df_nodes = pd.DataFrame(nodes)\n",
        "colnames = [desc[0] for desc in cursor.description]\n",
        "df_nodes.columns = colnames\n",
        "\n",
        "print(df_nodes.shape)"
      ],
      "execution_count": null,
      "outputs": [
        {
          "name": "stdout",
          "output_type": "stream",
          "text": [
            "shape is: 4612\n",
            "(4612, 3)\n"
          ]
        }
      ]
    },
    {
      "cell_type": "code",
      "metadata": {
        "id": "Z6Ndlh2fOuPr"
      },
      "source": [
        "edges_ = spark.createDataFrame(df_edges)"
      ],
      "execution_count": null,
      "outputs": []
    },
    {
      "cell_type": "code",
      "metadata": {
        "id": "NQpUzzhiOuM6"
      },
      "source": [
        "nodes = spark.createDataFrame(df_nodes)"
      ],
      "execution_count": null,
      "outputs": []
    },
    {
      "cell_type": "code",
      "metadata": {
        "id": "5E6wePicOzAe"
      },
      "source": [
        "cpdb = GraphFrame(nodes, edges_)"
      ],
      "execution_count": null,
      "outputs": []
    },
    {
      "cell_type": "code",
      "metadata": {
        "colab": {
          "base_uri": "https://localhost:8080/"
        },
        "id": "nGmLt3whyPAu",
        "outputId": "b8236e4a-f324-490e-eef3-d2fc80e9a170"
      },
      "source": [
        "cpdb.vertices.show()"
      ],
      "execution_count": null,
      "outputs": [
        {
          "name": "stdout",
          "output_type": "stream",
          "text": [
            "+---+---------------+---------------+\n",
            "| id|   officer_name|sustained_count|\n",
            "+---+---------------+---------------+\n",
            "|  6| Anthony Abbate|              2|\n",
            "| 17|Moulay Abdullah|              1|\n",
            "| 18|  Jason Abejero|              1|\n",
            "| 21|Deborah Abelson|              3|\n",
            "| 29|   Henry Abrams|              1|\n",
            "| 47| Rafael Acevedo|              1|\n",
            "| 50| Nadine Acevedo|              2|\n",
            "| 54|   Jeff Acevedo|              1|\n",
            "| 58| Manuel Acevedo|              5|\n",
            "| 59| Edward Acevedo|              2|\n",
            "| 75|   Mario Acosta|              1|\n",
            "| 79|     Erwin Acox|              1|\n",
            "| 80| Zaireh Acsvecs|              1|\n",
            "| 89|Randy Adamovitz|              1|\n",
            "| 90|    Craig Adams|              3|\n",
            "| 97|   Wilbur Adams|              1|\n",
            "|100|   Marvin Adams|              2|\n",
            "|105|Christoph Adams|              2|\n",
            "|108|    Vicky Adams|              2|\n",
            "|110|    Lloyd Adams|              3|\n",
            "+---+---------------+---------------+\n",
            "only showing top 20 rows\n",
            "\n"
          ]
        }
      ]
    },
    {
      "cell_type": "code",
      "metadata": {
        "colab": {
          "base_uri": "https://localhost:8080/"
        },
        "id": "MQ3vTw0yySrG",
        "outputId": "0daa6efe-2e38-46f9-d2b5-572ad373ec1e"
      },
      "source": [
        "cpdb.edges.show()"
      ],
      "execution_count": null,
      "outputs": [
        {
          "name": "stdout",
          "output_type": "stream",
          "text": [
            "+-----+-----+------------+\n",
            "|  src|  dst|relationship|\n",
            "+-----+-----+------------+\n",
            "|27740|30737|           3|\n",
            "|  309| 6075|           2|\n",
            "| 9491|31328|           2|\n",
            "|28278|28999|           2|\n",
            "|19501|31818|           2|\n",
            "| 2400|15354|           2|\n",
            "| 8156|18223|           2|\n",
            "|22906|30108|           2|\n",
            "|13594|13788|           2|\n",
            "| 6084|19477|           2|\n",
            "| 7829|28560|           2|\n",
            "|15195|24973|           2|\n",
            "| 9517|27740|           2|\n",
            "|30737|32294|           2|\n",
            "| 9517|30737|           2|\n",
            "|11731|18042|           2|\n",
            "| 9517|32294|           2|\n",
            "|12160|15760|           2|\n",
            "|30849|31248|           2|\n",
            "| 5829|20792|           2|\n",
            "+-----+-----+------------+\n",
            "only showing top 20 rows\n",
            "\n"
          ]
        }
      ]
    },
    {
      "cell_type": "markdown",
      "metadata": {
        "id": "M9bbYBH1OjOy"
      },
      "source": [
        "**Implement Graph Algorithms**"
      ]
    },
    {
      "cell_type": "code",
      "metadata": {
        "colab": {
          "base_uri": "https://localhost:8080/"
        },
        "id": "bjfzCySMdHr7",
        "outputId": "5d15e961-00bb-406d-847b-98aed8ff0f04"
      },
      "source": [
        "tc_cpdb = cpdb.triangleCount()\n",
        "tc_cpdb.select(\"id\",\"officer_name\",\"count\").dropDuplicates().orderBy('count',ascending = False).show()\n"
      ],
      "execution_count": null,
      "outputs": [
        {
          "name": "stdout",
          "output_type": "stream",
          "text": [
            "+-----+----------------+-----+\n",
            "|   id|    officer_name|count|\n",
            "+-----+----------------+-----+\n",
            "|12788|William Humphrey| 3723|\n",
            "| 6387|     Percy Davis| 3636|\n",
            "| 5667|   Jerry Crawley| 3573|\n",
            "| 6260|     James David| 3570|\n",
            "|10986| Vincent Guiffra| 3570|\n",
            "|  258|   Robert Alanis| 3570|\n",
            "|13401|  Johnny Jenkins| 3570|\n",
            "| 4699|  Joseph Cistaro| 3570|\n",
            "|13794|  Benjamin Jones| 3570|\n",
            "| 8134|       Roy Evans| 3570|\n",
            "|11537|    Andre Harris| 3570|\n",
            "|10227|    James Golich| 3570|\n",
            "| 9555|   Wilman Garcia| 3570|\n",
            "| 9713|      Gary Gaski| 3570|\n",
            "|  944|   Raymond Augle| 3570|\n",
            "| 5756|   Lenwood Cross| 3570|\n",
            "|  923|   Jesse Atilano| 3570|\n",
            "|  911|   Tyrone Askins| 3570|\n",
            "|13732|   Lorenzo Jones| 3570|\n",
            "|10556|   Jack Granadon| 3570|\n",
            "+-----+----------------+-----+\n",
            "only showing top 20 rows\n",
            "\n"
          ]
        }
      ]
    },
    {
      "cell_type": "code",
      "metadata": {
        "colab": {
          "base_uri": "https://localhost:8080/"
        },
        "id": "6R15Gbqv2kQT",
        "outputId": "0efea466-8259-4257-9bcb-b0a2536eb4c7"
      },
      "source": [
        "pr_cpdb = cpdb.pageRank(resetProbability=0.15, tol=0.01)\n",
        "#look at the pagerank score for every vertex\n",
        "pr_cpdb.vertices.dropDuplicates().orderBy('pagerank', ascending=False).show()"
      ],
      "execution_count": null,
      "outputs": [
        {
          "name": "stdout",
          "output_type": "stream",
          "text": [
            "+-----+----------------+---------------+------------------+\n",
            "|   id|    officer_name|sustained_count|          pagerank|\n",
            "+-----+----------------+---------------+------------------+\n",
            "|32192|   Dereck Miller|              2| 40.97297768180862|\n",
            "|31756|     Jose Zuniga|             15|23.550374153558035|\n",
            "|30342| Christoph Wells|              1|14.710267738714268|\n",
            "|30663| Ronald Williams|              2|11.814155914780049|\n",
            "|29807|  Richard Walker|              1|11.462546289907223|\n",
            "|30294|    Daniel Weems|              1|10.586822550956482|\n",
            "|31648|   Andres Zepeda|              1|10.057465668696398|\n",
            "|29046|   Isaiah Turner|              2| 9.457956097235726|\n",
            "|28556|   Robert Thorpe|              3| 8.084936168448614|\n",
            "|27708|Antionett Strong|              1| 7.081695913969587|\n",
            "|30223|Gerald Waxmonsky|              3| 7.032093966103569|\n",
            "|26851|    Ronald Smith|              3| 6.932595904355005|\n",
            "|27349| Charles Stanton|              2| 6.318782167932732|\n",
            "|30653|      Alan Wilks|              1| 6.021661743717718|\n",
            "|29063|   Andrew Turner|              2|  5.45884531205926|\n",
            "|26774|    Curtis Smith|              1|  5.10349246278389|\n",
            "|24653|  Edward Rosales|              3|  4.82875030915085|\n",
            "|32384|   Edwin Utreras|              3| 4.823832321495567|\n",
            "|26674|   Stephen Smith|              2|4.7040342337817265|\n",
            "|32291|   Victor Rivera|              1|4.6921344697321405|\n",
            "+-----+----------------+---------------+------------------+\n",
            "only showing top 20 rows\n",
            "\n"
          ]
        }
      ]
    },
    {
      "cell_type": "code",
      "metadata": {
        "colab": {
          "base_uri": "https://localhost:8080/"
        },
        "id": "gtzyNETZ2X6E",
        "outputId": "d801f575-0be7-4917-c8ed-b737cedc0461"
      },
      "source": [
        "from pyspark.sql.functions import sum as sqlsum\n",
        "from graphframes.lib import AggregateMessages as AM\n",
        "# from graphframes.examples import Graphs\n",
        "# g = Graphs(sqlContext).friends()  # Get example graph\n",
        "\n",
        "msgToSrc = AM.dst[\"sustained_count\"]\n",
        "msgToDst = AM.src[\"sustained_count\"]\n",
        "agg = cpdb.aggregateMessages(\n",
        "    sqlsum(AM.msg).alias(\"summedAllegations\"),\n",
        "    sendToSrc=msgToSrc,\n",
        "    sendToDst=msgToDst)\n",
        "\n",
        "agg.sort(['summedAllegations'],ascending=False).show()"
      ],
      "execution_count": null,
      "outputs": [
        {
          "name": "stdout",
          "output_type": "stream",
          "text": [
            "+-----+-----------------+\n",
            "|   id|summedAllegations|\n",
            "+-----+-----------------+\n",
            "|12788|              311|\n",
            "| 6387|              295|\n",
            "|26851|              274|\n",
            "| 9555|              271|\n",
            "|18042|              270|\n",
            "| 5667|              269|\n",
            "|13108|              269|\n",
            "|21442|              269|\n",
            "|  258|              268|\n",
            "| 4699|              268|\n",
            "|  124|              268|\n",
            "| 8057|              268|\n",
            "|13366|              268|\n",
            "|   29|              268|\n",
            "|30342|              268|\n",
            "|16747|              268|\n",
            "|10986|              268|\n",
            "|26774|              268|\n",
            "|10227|              268|\n",
            "|  944|              268|\n",
            "+-----+-----------------+\n",
            "only showing top 20 rows\n",
            "\n"
          ]
        }
      ]
    },
    {
      "cell_type": "code",
      "metadata": {
        "id": "WTfJKtbjpT9i"
      },
      "source": [
        "# NetworkX to visualize the graph\n",
        "import networkx as nx\n",
        "\n",
        "def plot_graph(gx):\n",
        "    g = nx.DiGraph(directed = True)\n",
        "    \n",
        "    g = nx.from_pandas_edgelist(gx.edges.toPandas(),'src','dst')\n",
        "    g.add_nodes_from(gx.vertices.toPandas()['id'])\n",
        "\n",
        "    nx.draw_circular(g, arrows = True)"
      ],
      "execution_count": null,
      "outputs": []
    },
    {
      "cell_type": "code",
      "metadata": {
        "colab": {
          "base_uri": "https://localhost:8080/",
          "height": 319
        },
        "id": "l9ja8lYTpVBN",
        "outputId": "7424e8ca-ccce-4a69-dd92-f632f2276da8"
      },
      "source": [
        "plot_graph(cpdb)"
      ],
      "execution_count": null,
      "outputs": [
        {
          "data": {
            "image/png": "[encoded data removed]",
            "text/plain": [
              "<Figure size 432x288 with 1 Axes>"
            ]
          },
          "metadata": {},
          "output_type": "display_data"
        }
      ]
    },
    {
      "cell_type": "code",
      "metadata": {
        "colab": {
          "base_uri": "https://localhost:8080/"
        },
        "id": "0bF5SauguOu9",
        "outputId": "16776b47-5c26-4e52-a22f-90c8c4e6d9fb"
      },
      "source": [
        "cpdb.degrees.sort(['Degree'],ascending=[0]).show()"
      ],
      "execution_count": null,
      "outputs": [
        {
          "name": "stdout",
          "output_type": "stream",
          "text": [
            "+-----+------+\n",
            "|   id|degree|\n",
            "+-----+------+\n",
            "|12788|   103|\n",
            "| 6387|    97|\n",
            "| 9555|    89|\n",
            "| 5667|    88|\n",
            "|31756|    88|\n",
            "|18042|    87|\n",
            "|23534|    87|\n",
            "|26851|    87|\n",
            "|10389|    86|\n",
            "| 2604|    86|\n",
            "|13108|    86|\n",
            "| 6534|    86|\n",
            "|24185|    86|\n",
            "|21442|    86|\n",
            "|13732|    86|\n",
            "|10556|    86|\n",
            "|13366|    85|\n",
            "|13794|    85|\n",
            "|13401|    85|\n",
            "| 8057|    85|\n",
            "+-----+------+\n",
            "only showing top 20 rows\n",
            "\n"
          ]
        }
      ]
    },
    {
      "cell_type": "code",
      "metadata": {
        "colab": {
          "base_uri": "https://localhost:8080/"
        },
        "id": "TA4XWLxBtrW3",
        "outputId": "fb818fb5-c84a-4673-e23c-1fd920458109"
      },
      "source": [
        "communities = cpdb.labelPropagation(maxIter=40)\n",
        "communities.persist().show(10)\n",
        "print (f\"There are {communities.select('label').distinct().count()} communities in this sample graph.\")"
      ],
      "execution_count": null,
      "outputs": [
        {
          "name": "stdout",
          "output_type": "stream",
          "text": [
            "+-----+------------------+---------------+-----+\n",
            "|   id|      officer_name|sustained_count|label|\n",
            "+-----+------------------+---------------+-----+\n",
            "|   29|      Henry Abrams|              1|29807|\n",
            "| 2214|      Calvin Blunt|              3|23072|\n",
            "| 5556|   Ramon Covington|              1| 5556|\n",
            "|11190|    Mahmoud Haleem|              1|11190|\n",
            "|13401|    Johnny Jenkins|              8|29807|\n",
            "|19979|    Dennis Murdock|              1|22809|\n",
            "|28242|      Andre Taylor|              1|28242|\n",
            "|29824|      Myrta Walker|              1|29824|\n",
            "|31156|      Emmit Womack|              1|31156|\n",
            "|31703|Bernice Ziolkowski|              2|31703|\n",
            "+-----+------------------+---------------+-----+\n",
            "only showing top 10 rows\n",
            "\n",
            "There are 4041 communities in this sample graph.\n"
          ]
        }
      ]
    },
    {
      "cell_type": "code",
      "metadata": {
        "colab": {
          "base_uri": "https://localhost:8080/"
        },
        "id": "nihL__OLt4nD",
        "outputId": "afe9f48c-4a1d-4d08-d955-9eedebae1d2b"
      },
      "source": [
        "communities.groupby('label').count().sort('count', ascending=False).show()"
      ],
      "execution_count": null,
      "outputs": [
        {
          "name": "stdout",
          "output_type": "stream",
          "text": [
            "+-----+-----+\n",
            "|label|count|\n",
            "+-----+-----+\n",
            "|29807|  113|\n",
            "|22809|   25|\n",
            "| 5439|   19|\n",
            "|30294|   17|\n",
            "|11573|   11|\n",
            "|29403|    9|\n",
            "|21986|    9|\n",
            "| 5520|    8|\n",
            "|20820|    8|\n",
            "|24247|    8|\n",
            "| 8481|    8|\n",
            "|12745|    7|\n",
            "|30518|    6|\n",
            "|15936|    6|\n",
            "|21436|    6|\n",
            "| 9001|    6|\n",
            "|23631|    6|\n",
            "|28153|    6|\n",
            "|21777|    6|\n",
            "|31619|    5|\n",
            "+-----+-----+\n",
            "only showing top 20 rows\n",
            "\n"
          ]
        }
      ]
    },
    {
      "cell_type": "markdown",
      "metadata": {
        "id": "DpM5m0WcA2IP"
      },
      "source": [
        "# **CPDB Analysis(2)**\n",
        "\n",
        "Analyze the police officers connection with allegations"
      ]
    },
    {
      "cell_type": "markdown",
      "metadata": {
        "id": "EMuHABc6A2IP"
      },
      "source": [
        "**Following query creates nodes and edges to answer the questions.**\n",
        "\n",
        "\n",
        "\n",
        "*   **nodes**: id, officer name and sustained count\n",
        "*   **edges**: src(officer1 id), dist(officer2 id) and relationship(sustained count)"
      ]
    },
    {
      "cell_type": "code",
      "metadata": {
        "id": "6AXeX_dT8oK7"
      },
      "source": [
        "edges_query = '''SELECT da1.officer_id src, da2.officer_id dst, count(da1.allegation_category_id) relationship\n",
        "FROM data_officerallegation da1 JOIN data_officerallegation da2\n",
        "    ON da1.allegation_id = da2.allegation_id AND da1.officer_id < da2.officer_id\n",
        "join data_officer d1 on da1.officer_id = d1.id\n",
        "join data_officer d2 on da2.officer_id = d2.id\n",
        "join data_allegationcategory d3 on da1.allegation_category_id = d3.id\n",
        "join data_allegationcategory d4 on da2.allegation_category_id = d4.id\n",
        "where da1.final_finding = 'SU' and d1.rank = 'Police Officer' and da2.final_finding = 'SU' and d2.rank = 'Police Officer'\n",
        "  and d3.category = 'Conduct Unbecoming (Off-Duty)' and d4.category = 'Conduct Unbecoming (Off-Duty)'\n",
        "group by da1.officer_id, da2.officer_id\n",
        "order by relationship desc;'''"
      ],
      "execution_count": null,
      "outputs": []
    },
    {
      "cell_type": "code",
      "metadata": {
        "id": "qtlM-RRw8oK8"
      },
      "source": [
        "nodes_query = '''select da.id,da.first_name || ' ' || da.last_name officer_name,COUNT(d.category) as sustained_count\n",
        "from data_officer da\n",
        "join data_officerallegation doa on da.id = doa.officer_id\n",
        "join data_allegationcategory d on doa.allegation_category_id = d.id\n",
        "where da.rank = 'Police Officer' and doa.final_finding = 'SU' and d.category = 'Conduct Unbecoming (Off-Duty)'\n",
        "group by da.id, d.category\n",
        "    order by da.id;'''"
      ],
      "execution_count": null,
      "outputs": []
    },
    {
      "cell_type": "code",
      "metadata": {
        "colab": {
          "base_uri": "https://localhost:8080/"
        },
        "id": "jm-HWQPW8oK8",
        "outputId": "ec0e6205-45ae-42ac-a1d4-83d389962f74"
      },
      "source": [
        "cursor.execute(edges_query)\n",
        "edges = cursor.fetchall()\n",
        "print(\"shape is: \" + str(len(edges))) # 17465\n",
        "\n",
        "df_edges = pd.DataFrame(edges)\n",
        "colnames = [desc[0] for desc in cursor.description]\n",
        "df_edges.columns = colnames\n",
        "\n",
        "print(df_edges.shape)"
      ],
      "execution_count": null,
      "outputs": [
        {
          "name": "stdout",
          "output_type": "stream",
          "text": [
            "shape is: 1218\n",
            "(1218, 3)\n"
          ]
        }
      ]
    },
    {
      "cell_type": "code",
      "metadata": {
        "colab": {
          "base_uri": "https://localhost:8080/"
        },
        "id": "AALzlRiB8oK8",
        "outputId": "85e14a78-7614-44e9-be91-a996c7c7e70a"
      },
      "source": [
        "cursor.execute(nodes_query)\n",
        "nodes = cursor.fetchall()\n",
        "print(\"shape is: \" + str(len(nodes))) # 17465\n",
        "\n",
        "df_nodes = pd.DataFrame(nodes)\n",
        "colnames = [desc[0] for desc in cursor.description]\n",
        "df_nodes.columns = colnames\n",
        "\n",
        "print(df_nodes.shape)"
      ],
      "execution_count": null,
      "outputs": [
        {
          "name": "stdout",
          "output_type": "stream",
          "text": [
            "shape is: 1319\n",
            "(1319, 3)\n"
          ]
        }
      ]
    },
    {
      "cell_type": "code",
      "metadata": {
        "id": "W9AeIWK78oK9"
      },
      "source": [
        "edges_ = spark.createDataFrame(df_edges)"
      ],
      "execution_count": null,
      "outputs": []
    },
    {
      "cell_type": "code",
      "metadata": {
        "id": "2rsMLgEx8oK9"
      },
      "source": [
        "nodes = spark.createDataFrame(df_nodes)"
      ],
      "execution_count": null,
      "outputs": []
    },
    {
      "cell_type": "code",
      "metadata": {
        "id": "Wa7tPQeg8oK9"
      },
      "source": [
        "cpdb = GraphFrame(nodes, edges_)"
      ],
      "execution_count": null,
      "outputs": []
    },
    {
      "cell_type": "code",
      "metadata": {
        "colab": {
          "base_uri": "https://localhost:8080/"
        },
        "id": "xlXN9X418oK9",
        "outputId": "21305046-ca37-44d0-dc8e-231c1453a083"
      },
      "source": [
        "cpdb.vertices.show()"
      ],
      "execution_count": null,
      "outputs": [
        {
          "name": "stdout",
          "output_type": "stream",
          "text": [
            "+---+-----------------+---------------+\n",
            "| id|     officer_name|sustained_count|\n",
            "+---+-----------------+---------------+\n",
            "| 21|  Deborah Abelson|              1|\n",
            "| 29|     Henry Abrams|              1|\n",
            "| 45|    Pedro Acevedo|              1|\n",
            "| 58|   Manuel Acevedo|              2|\n",
            "| 89|  Randy Adamovitz|              1|\n",
            "|117|      James Adams|              1|\n",
            "|160|    Mahir Affaneh|              1|\n",
            "|191|  Edward Aguilera|              2|\n",
            "|199|Kathleen Aguinaga|              2|\n",
            "|220|    Terry Ahlgrim|              1|\n",
            "|225|    Maurice Ahmed|              1|\n",
            "|241|   Willie Akerson|              1|\n",
            "|245|     Jimmie Akins|              1|\n",
            "|258|    Robert Alanis|              1|\n",
            "|344|     Joel Algarin|              1|\n",
            "|376|     Gloria Allen|              1|\n",
            "|387|    Raymond Allen|              1|\n",
            "|396|    Michael Allen|              1|\n",
            "|420|  Xavier Almaguer|              1|\n",
            "|422|   Joseph Almanza|              1|\n",
            "+---+-----------------+---------------+\n",
            "only showing top 20 rows\n",
            "\n"
          ]
        }
      ]
    },
    {
      "cell_type": "code",
      "metadata": {
        "colab": {
          "base_uri": "https://localhost:8080/"
        },
        "id": "XmEe52RD8oK9",
        "outputId": "06dce0ec-0d6f-4577-8f0a-4e3aa062c1cb"
      },
      "source": [
        "cpdb.edges.show()"
      ],
      "execution_count": null,
      "outputs": [
        {
          "name": "stdout",
          "output_type": "stream",
          "text": [
            "+-----+-----+------------+\n",
            "|  src|  dst|relationship|\n",
            "+-----+-----+------------+\n",
            "|  985|17287|           2|\n",
            "|25262|28807|           2|\n",
            "|  191|22319|           1|\n",
            "|  191|29285|           1|\n",
            "|  860| 1938|           1|\n",
            "|  923|15982|           1|\n",
            "|  947|15308|           1|\n",
            "|  974|  985|           1|\n",
            "|  974| 2085|           1|\n",
            "|  974| 2323|           1|\n",
            "|  974| 2978|           1|\n",
            "|  974| 3027|           1|\n",
            "|  974| 4249|           1|\n",
            "|  974| 4408|           1|\n",
            "|  974| 6155|           1|\n",
            "|  974| 6250|           1|\n",
            "|  974| 6857|           1|\n",
            "|  974| 8602|           1|\n",
            "|  974| 8658|           1|\n",
            "|  974| 8992|           1|\n",
            "+-----+-----+------------+\n",
            "only showing top 20 rows\n",
            "\n"
          ]
        }
      ]
    },
    {
      "cell_type": "markdown",
      "metadata": {
        "id": "rgtHdsJc8oK-"
      },
      "source": [
        "**Implement Graph Algorithms**"
      ]
    },
    {
      "cell_type": "code",
      "metadata": {
        "colab": {
          "base_uri": "https://localhost:8080/"
        },
        "id": "kH2qnv6E8oK-",
        "outputId": "504cbc5c-ab25-4fb3-d897-9dd83d96005a"
      },
      "source": [
        "tc_cpdb = cpdb.triangleCount()\n",
        "tc_cpdb.select(\"id\",\"officer_name\",\"count\").dropDuplicates().orderBy('count',ascending = False).show()\n"
      ],
      "execution_count": null,
      "outputs": [
        {
          "name": "stdout",
          "output_type": "stream",
          "text": [
            "+-----+-----------------+-----+\n",
            "|   id|     officer_name|count|\n",
            "+-----+-----------------+-----+\n",
            "|  985|     Joseph Avila| 1080|\n",
            "|17287|  Charles Maratre| 1080|\n",
            "|  974|    Bernard Avant| 1038|\n",
            "|10902|   David Grubisic| 1035|\n",
            "|31906|      James Davis| 1035|\n",
            "| 2323|      Craig Bolin| 1035|\n",
            "|10352|Enriquez Gonzalez| 1035|\n",
            "| 3027|      David Brown| 1035|\n",
            "| 8602|    Lolita Fisher| 1035|\n",
            "|13207|      Rufus James| 1035|\n",
            "| 4408| Nicolas Chapello| 1035|\n",
            "|13401|   Johnny Jenkins| 1035|\n",
            "|19052|        Che Miles| 1035|\n",
            "|15668|  Darryl Langston| 1035|\n",
            "| 8992|     Henry Foster| 1035|\n",
            "|11413|     Wadell Hardy| 1035|\n",
            "| 8658|      Corey Flagg| 1035|\n",
            "| 2085|      Eural Black| 1035|\n",
            "|22172|       Aaron Pena| 1035|\n",
            "| 6155|     Fred Dammons| 1035|\n",
            "+-----+-----------------+-----+\n",
            "only showing top 20 rows\n",
            "\n"
          ]
        }
      ]
    },
    {
      "cell_type": "code",
      "metadata": {
        "colab": {
          "base_uri": "https://localhost:8080/"
        },
        "id": "IMlU19UY8oK-",
        "outputId": "2ccb00a9-9914-4faa-9bb0-662f7ed52042"
      },
      "source": [
        "pr_cpdb = cpdb.pageRank(resetProbability=0.15, tol=0.01)\n",
        "#look at the pagerank score for every vertex\n",
        "pr_cpdb.vertices.dropDuplicates().orderBy('pagerank', ascending=False).show()"
      ],
      "execution_count": null,
      "outputs": [
        {
          "name": "stdout",
          "output_type": "stream",
          "text": [
            "+-----+--------------------+---------------+------------------+\n",
            "|   id|        officer_name|sustained_count|          pagerank|\n",
            "+-----+--------------------+---------------+------------------+\n",
            "|32323|        Jerry Scaife|              1|24.030912366209257|\n",
            "|31906|         James Davis|              1|13.009611474979001|\n",
            "|30921|       Leigha Wilson|              1| 9.129551912265967|\n",
            "|29817|      Herbert Walker|              2| 7.122709294673093|\n",
            "|26497|    Lonnie Singleton|              1| 5.876637866365711|\n",
            "|31275|       Ernest Wright|              1|5.7050918902945815|\n",
            "|26167|       Teresa Shegog|              3| 5.022767407150179|\n",
            "|23936|      Steven Ridgner|              2| 4.405013497829839|\n",
            "|23859|Janice Richard Ka...|              2|3.9307799866696236|\n",
            "|23265|     Robert Quintero|              2|  3.55450967199834|\n",
            "|22172|          Aaron Pena|              3| 3.248224962353675|\n",
            "|27911|      Rennard Sutton|              1|3.0996310600865105|\n",
            "|21890|         Sammie Parr|              4| 2.993755725671591|\n",
            "|29285|          June Valle|              1|2.9742098451045087|\n",
            "|21860|       Robbin Parker|              1| 2.782190925539482|\n",
            "|20286|         Andrew Neal|              1|2.6002319039392057|\n",
            "|17287|     Charles Maratre|              2| 2.511675621652257|\n",
            "|20078|      Herbert Murphy|              1|  2.44197254064013|\n",
            "|26951|   Stephen Sodergren|              1|2.3457785183116733|\n",
            "|24473|           Lloyd Roe|              1|2.3175661130684486|\n",
            "+-----+--------------------+---------------+------------------+\n",
            "only showing top 20 rows\n",
            "\n"
          ]
        }
      ]
    },
    {
      "cell_type": "markdown",
      "metadata": {
        "id": "uZk-JxYl8oK-"
      },
      "source": [
        "**Message Passing using aggregateMessages()**"
      ]
    },
    {
      "cell_type": "code",
      "metadata": {
        "colab": {
          "base_uri": "https://localhost:8080/"
        },
        "id": "q3Z61Jfv8oK-",
        "outputId": "bcb49336-7138-4b92-cdce-540b05193175"
      },
      "source": [
        "from pyspark.sql.functions import sum as sqlsum\n",
        "from graphframes.lib import AggregateMessages as AM\n",
        "# from graphframes.examples import Graphs\n",
        "# g = Graphs(sqlContext).friends()  # Get example graph\n",
        "\n",
        "# For each user, sum the ages of the adjacent users.\n",
        "msgToSrc = AM.dst[\"sustained_count\"]\n",
        "msgToDst = AM.src[\"sustained_count\"]\n",
        "agg = cpdb.aggregateMessages(\n",
        "    sqlsum(AM.msg).alias(\"summedAllegations\"),\n",
        "    sendToSrc=msgToSrc,\n",
        "    sendToDst=msgToDst)\n",
        "\n",
        "agg.sort(['summedAllegations'],ascending=False).show()"
      ],
      "execution_count": null,
      "outputs": [
        {
          "name": "stdout",
          "output_type": "stream",
          "text": [
            "+-----+-----------------+\n",
            "|   id|summedAllegations|\n",
            "+-----+-----------------+\n",
            "|17287|               81|\n",
            "|  985|               81|\n",
            "|  974|               73|\n",
            "| 8658|               70|\n",
            "|20286|               70|\n",
            "|16886|               70|\n",
            "| 6250|               70|\n",
            "|19934|               70|\n",
            "|11413|               70|\n",
            "| 4249|               70|\n",
            "| 4408|               70|\n",
            "| 2085|               70|\n",
            "|16345|               70|\n",
            "|10902|               70|\n",
            "| 2323|               70|\n",
            "|18059|               70|\n",
            "|10352|               70|\n",
            "| 3027|               70|\n",
            "|19052|               70|\n",
            "|26497|               70|\n",
            "+-----+-----------------+\n",
            "only showing top 20 rows\n",
            "\n"
          ]
        }
      ]
    },
    {
      "cell_type": "code",
      "metadata": {
        "id": "MRG92ag08oK_"
      },
      "source": [
        "# NetworkX to visualize the graph\n",
        "import networkx as nx\n",
        "\n",
        "def plot_graph(gx):\n",
        "    g = nx.DiGraph(directed = True)\n",
        "    \n",
        "    g = nx.from_pandas_edgelist(gx.edges.toPandas(),'src','dst')\n",
        "    g.add_nodes_from(gx.vertices.toPandas()['id'])\n",
        "\n",
        "    nx.draw_kamada_kawai(g, arrows = True)"
      ],
      "execution_count": null,
      "outputs": []
    },
    {
      "cell_type": "code",
      "metadata": {
        "colab": {
          "base_uri": "https://localhost:8080/",
          "height": 319
        },
        "id": "PpY3O7pD8oK_",
        "outputId": "8b6b7e8e-0a33-4e52-f5d2-8d9440c19619"
      },
      "source": [
        "plot_graph(cpdb)"
      ],
      "execution_count": null,
      "outputs": [
        {
          "data": {
            "image/png": "[encoded data removed]",
            "text/plain": [
              "<Figure size 432x288 with 1 Axes>"
            ]
          },
          "metadata": {},
          "output_type": "display_data"
        }
      ]
    },
    {
      "cell_type": "code",
      "metadata": {
        "colab": {
          "base_uri": "https://localhost:8080/"
        },
        "id": "UOFY76p78oK_",
        "outputId": "ee6ee66f-2db2-408d-f59e-deeff0d68b09"
      },
      "source": [
        "cpdb.degrees.sort(['Degree'],ascending=[0]).show()"
      ],
      "execution_count": null,
      "outputs": [
        {
          "name": "stdout",
          "output_type": "stream",
          "text": [
            "+-----+------+\n",
            "|   id|degree|\n",
            "+-----+------+\n",
            "|17287|    55|\n",
            "|  985|    55|\n",
            "|  974|    49|\n",
            "|26167|    46|\n",
            "| 9617|    46|\n",
            "|15668|    46|\n",
            "|22172|    46|\n",
            "|19052|    46|\n",
            "|19856|    46|\n",
            "|11184|    46|\n",
            "|31906|    46|\n",
            "|29817|    46|\n",
            "| 6250|    46|\n",
            "|16167|    46|\n",
            "|20078|    46|\n",
            "|19684|    46|\n",
            "|18059|    46|\n",
            "|16875|    46|\n",
            "|14313|    46|\n",
            "| 8992|    46|\n",
            "+-----+------+\n",
            "only showing top 20 rows\n",
            "\n"
          ]
        }
      ]
    },
    {
      "cell_type": "code",
      "metadata": {
        "colab": {
          "background_save": true
        },
        "id": "CAo7syPB8oLA",
        "outputId": "f9fc1c7e-986c-489d-fa0c-411e52b1e650"
      },
      "source": [
        "communities = cpdb.labelPropagation(maxIter=40)\n",
        "communities.persist().show(10)\n",
        "print (f\"There are {communities.select('label').distinct().count()} communities in this sample graph.\")"
      ],
      "execution_count": null,
      "outputs": [
        {
          "name": "stdout",
          "output_type": "stream",
          "text": [
            "+-----+--------------------+---------------+-----+\n",
            "|   id|        officer_name|sustained_count|label|\n",
            "+-----+--------------------+---------------+-----+\n",
            "|   29|        Henry Abrams|              1|   29|\n",
            "| 2214|        Calvin Blunt|              1| 2214|\n",
            "| 2453|       Joseph Boston|              2| 2453|\n",
            "| 3764|       Sean Campbell|              1| 3764|\n",
            "|13401|      Johnny Jenkins|              4|22172|\n",
            "|  191|     Edward Aguilera|              2|  191|\n",
            "| 1360|Donna Barnes Simmons|              1| 1360|\n",
            "| 3280|       Andre Bullock|              2| 3280|\n",
            "|12967|         Sonia Irwin|              1|12967|\n",
            "|22102|       John Pechulis|              1|22102|\n",
            "+-----+--------------------+---------------+-----+\n",
            "only showing top 10 rows\n",
            "\n",
            "There are 1246 communities in this sample graph.\n"
          ]
        }
      ]
    },
    {
      "cell_type": "code",
      "metadata": {
        "colab": {
          "background_save": true
        },
        "id": "ohFqwtwt8oLA",
        "outputId": "5ea3389a-74cb-4d2c-9b76-8ab1cbd29ae6"
      },
      "source": [
        "#only shows the top 5 rows\n",
        "communities.groupby('label').count().sort('count', ascending=False).show()"
      ],
      "execution_count": null,
      "outputs": [
        {
          "name": "stdout",
          "output_type": "stream",
          "text": [
            "+-----+-----+\n",
            "|label|count|\n",
            "+-----+-----+\n",
            "|22172|   47|\n",
            "|21197|    9|\n",
            "|  191|    4|\n",
            "| 2400|    3|\n",
            "|24473|    3|\n",
            "|26533|    3|\n",
            "| 6393|    3|\n",
            "|11229|    3|\n",
            "| 9688|    3|\n",
            "| 2978|    3|\n",
            "|22365|    3|\n",
            "|   29|    1|\n",
            "| 1360|    1|\n",
            "| 2214|    1|\n",
            "| 3280|    1|\n",
            "|25946|    1|\n",
            "| 2453|    1|\n",
            "|12967|    1|\n",
            "| 8330|    1|\n",
            "| 3764|    1|\n",
            "+-----+-----+\n",
            "only showing top 20 rows\n",
            "\n"
          ]
        }
      ]
    }
  ]
}